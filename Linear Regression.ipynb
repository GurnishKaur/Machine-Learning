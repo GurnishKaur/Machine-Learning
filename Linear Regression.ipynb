{
  "nbformat": 4,
  "nbformat_minor": 0,
  "metadata": {
    "colab": {
      "provenance": []
    },
    "kernelspec": {
      "name": "python3",
      "display_name": "Python 3"
    },
    "language_info": {
      "name": "python"
    },
    "accelerator": "GPU",
    "gpuClass": "standard"
  },
  "cells": [
    {
      "cell_type": "code",
      "execution_count": null,
      "metadata": {
        "id": "FNzlOLRg8psu"
      },
      "outputs": [],
      "source": [
        "import pandas as pd\n",
        "import numpy as np\n",
        "\n",
        "import seaborn as sns\n",
        "import matplotlib.pyplot as plt\n",
        "\n",
        "from sklearn.model_selection import train_test_split\n",
        "from collections import defaultdict\n",
        "from sklearn.preprocessing import LabelEncoder, OneHotEncoder\n",
        "from sklearn.linear_model import LinearRegression\n",
        "\n",
        "from sklearn.metrics import mean_squared_error\n",
        "from sklearn.metrics import r2_score\n",
        "\n",
        "import statsmodels.api as sm\n",
        "\n",
        "sns.set_style(\"whitegrid\") "
      ]
    },
    {
      "cell_type": "markdown",
      "source": [
        "## `Deliverable 1`"
      ],
      "metadata": {
        "id": "9pIpiDNb1Ccg"
      }
    },
    {
      "cell_type": "code",
      "source": [
        "#Note: Have disintegrated the dataset into multiple csv files\n",
        "df1 = pd.read_csv(\"/content/customer_data.csv\")"
      ],
      "metadata": {
        "id": "RAjppbOB_60t"
      },
      "execution_count": null,
      "outputs": []
    },
    {
      "cell_type": "code",
      "source": [
        "df1.head()"
      ],
      "metadata": {
        "id": "ZscBL1pPANr5"
      },
      "execution_count": null,
      "outputs": []
    },
    {
      "cell_type": "code",
      "source": [
        "indexNeg1 = df1[ df1['CustomerKey'] ==  -1 ].index\n",
        "df1.drop(indexNeg1 , inplace=True)\n",
        "df1.head(15)"
      ],
      "metadata": {
        "id": "D4DoYtm_LRNj"
      },
      "execution_count": null,
      "outputs": []
    },
    {
      "cell_type": "code",
      "source": [
        "df2 = pd.read_csv(\"/content/product_data.csv\")"
      ],
      "metadata": {
        "id": "G7buLMS8AWOL"
      },
      "execution_count": null,
      "outputs": []
    },
    {
      "cell_type": "code",
      "source": [
        "df2.head()"
      ],
      "metadata": {
        "id": "36yR_OlI8dOZ"
      },
      "execution_count": null,
      "outputs": []
    },
    {
      "cell_type": "code",
      "source": [
        "df3 = pd.read_csv(\"/content/reseller_data.csv\")"
      ],
      "metadata": {
        "id": "cdlXmRy_8fUG"
      },
      "execution_count": null,
      "outputs": []
    },
    {
      "cell_type": "code",
      "source": [
        "indexNeg1 = df3[ df3['ResellerKey'] ==  -1 ].index\n",
        "df3.drop(indexNeg1 , inplace=True)\n",
        "df3.tail(15)"
      ],
      "metadata": {
        "id": "n-QWgr-_8jco"
      },
      "execution_count": null,
      "outputs": []
    },
    {
      "cell_type": "code",
      "source": [
        "df4 = pd.read_csv(\"sales_data.csv\")"
      ],
      "metadata": {
        "id": "5uvLMvJu8nom"
      },
      "execution_count": null,
      "outputs": []
    },
    {
      "cell_type": "code",
      "source": [
        "df4.head()"
      ],
      "metadata": {
        "id": "_FB-eCP88u_a"
      },
      "execution_count": null,
      "outputs": []
    },
    {
      "cell_type": "code",
      "source": [
        "df4.shape"
      ],
      "metadata": {
        "id": "87P-Wzbc2rdr"
      },
      "execution_count": null,
      "outputs": []
    },
    {
      "cell_type": "code",
      "source": [
        "df4[\"Total Cost\"] = df4[\"Order Quantity\"] * df4[\"Product Cost\"]"
      ],
      "metadata": {
        "id": "g64W7vBJ0kYg"
      },
      "execution_count": null,
      "outputs": []
    },
    {
      "cell_type": "code",
      "source": [
        "df4.head()"
      ],
      "metadata": {
        "id": "ChPfUB230u4W"
      },
      "execution_count": null,
      "outputs": []
    },
    {
      "cell_type": "code",
      "source": [
        "df4[\"Net Sales\"] = df4[\"Gross Sales \"] - df4[\"Total Cost\"]"
      ],
      "metadata": {
        "id": "-jgVkBCH00HA"
      },
      "execution_count": null,
      "outputs": []
    },
    {
      "cell_type": "code",
      "source": [
        "df4.head()"
      ],
      "metadata": {
        "id": "qXJFdyFZJJMm"
      },
      "execution_count": null,
      "outputs": []
    },
    {
      "cell_type": "code",
      "source": [
        "df4.tail()"
      ],
      "metadata": {
        "id": "qwZcf--j2DpP"
      },
      "execution_count": null,
      "outputs": []
    },
    {
      "cell_type": "code",
      "source": [
        "df4.shape"
      ],
      "metadata": {
        "id": "p9Q08oUk2v_g"
      },
      "execution_count": null,
      "outputs": []
    },
    {
      "cell_type": "code",
      "source": [
        "df4['yy'] = df4['OrderDateKey'].astype(str).str[:4]"
      ],
      "metadata": {
        "id": "kt7pmlTe3GmF"
      },
      "execution_count": null,
      "outputs": []
    },
    {
      "cell_type": "code",
      "source": [
        "df4.shape"
      ],
      "metadata": {
        "id": "SsZ5drDu3ISd"
      },
      "execution_count": null,
      "outputs": []
    },
    {
      "cell_type": "code",
      "source": [
        "df5 = pd.read_csv(\"sales_order_data.csv\")"
      ],
      "metadata": {
        "id": "nAArWpE1-dpX"
      },
      "execution_count": null,
      "outputs": []
    },
    {
      "cell_type": "code",
      "source": [
        "df5.head()"
      ],
      "metadata": {
        "id": "JzhDHTCh-eP_"
      },
      "execution_count": null,
      "outputs": []
    },
    {
      "cell_type": "code",
      "source": [
        "df6 = pd.read_csv(\"sales_territory_data.csv\")"
      ],
      "metadata": {
        "id": "jt1BMfRz-ecR"
      },
      "execution_count": null,
      "outputs": []
    },
    {
      "cell_type": "code",
      "source": [
        "df6.head()"
      ],
      "metadata": {
        "id": "EjPPSfTr-lrW"
      },
      "execution_count": null,
      "outputs": []
    },
    {
      "cell_type": "code",
      "source": [
        "df4.columns.intersection(df1.columns)"
      ],
      "metadata": {
        "id": "Y4awAmz98wEa"
      },
      "execution_count": null,
      "outputs": []
    },
    {
      "cell_type": "code",
      "source": [
        "df4.columns.intersection(df2.columns)"
      ],
      "metadata": {
        "id": "tnRyDe528-k_"
      },
      "execution_count": null,
      "outputs": []
    },
    {
      "cell_type": "code",
      "source": [
        "df4.columns.intersection(df3.columns)"
      ],
      "metadata": {
        "id": "grAjAxKO9Hfj"
      },
      "execution_count": null,
      "outputs": []
    },
    {
      "cell_type": "code",
      "source": [
        "df4.columns.intersection(df5.columns)"
      ],
      "metadata": {
        "id": "QeQJWaZiDJu6"
      },
      "execution_count": null,
      "outputs": []
    },
    {
      "cell_type": "code",
      "source": [
        "df4.columns.intersection(df6.columns)"
      ],
      "metadata": {
        "id": "5kjLuw2pDJxw"
      },
      "execution_count": null,
      "outputs": []
    },
    {
      "cell_type": "code",
      "source": [
        "df4.shape"
      ],
      "metadata": {
        "id": "94KsJ_E-DJ4B"
      },
      "execution_count": null,
      "outputs": []
    },
    {
      "cell_type": "code",
      "source": [
        "df4.columns"
      ],
      "metadata": {
        "id": "bLvrGjGiEsCW"
      },
      "execution_count": null,
      "outputs": []
    },
    {
      "cell_type": "code",
      "source": [
        "ndf1 = pd.merge(df1, df4, on=\"CustomerKey\")\n",
        "ndf1.head()"
      ],
      "metadata": {
        "id": "r-8VKRwyE2of"
      },
      "execution_count": null,
      "outputs": []
    },
    {
      "cell_type": "code",
      "source": [
        "ndf1.shape"
      ],
      "metadata": {
        "id": "YYS5lVpXTXTN"
      },
      "execution_count": null,
      "outputs": []
    },
    {
      "cell_type": "code",
      "source": [
        "# this graph shows the gross sales with respect to the country-region; from the graph we can infer that the Australia has highest slaes, while Canada has the lowest sales.\n",
        "plt.figure(figsize=(15,10))\n",
        "sns.lineplot(y='Gross Sales ', x = 'Country-Region', data=ndf1, sizes=(.8, .8))"
      ],
      "metadata": {
        "id": "4YGJZQHjcprQ"
      },
      "execution_count": null,
      "outputs": []
    },
    {
      "cell_type": "code",
      "source": [
        "ndf1.shape"
      ],
      "metadata": {
        "id": "IZt6GTrQKYwd"
      },
      "execution_count": null,
      "outputs": []
    },
    {
      "cell_type": "code",
      "source": [
        "ndf2 = pd.merge(df2, ndf1, on=\"ProductKey\")\n",
        "ndf2.head()"
      ],
      "metadata": {
        "id": "fMCu_JwjKtIl"
      },
      "execution_count": null,
      "outputs": []
    },
    {
      "cell_type": "code",
      "source": [
        "# this graph shows the quantity vs the product key and to get the distribution of the data\n",
        "sns.boxenplot(y = 'ProductKey', x = 'Order Quantity', data = ndf1)"
      ],
      "metadata": {
        "id": "ZQzd9t2RfQy5"
      },
      "execution_count": null,
      "outputs": []
    },
    {
      "cell_type": "code",
      "source": [
        "df2.shape"
      ],
      "metadata": {
        "id": "CdMYyBRcMNvx"
      },
      "execution_count": null,
      "outputs": []
    },
    {
      "cell_type": "code",
      "source": [
        "ndf2.shape"
      ],
      "metadata": {
        "id": "bU6HNiYLGOHC"
      },
      "execution_count": null,
      "outputs": []
    },
    {
      "cell_type": "code",
      "source": [
        "ndf2.columns.intersection(df3.columns)"
      ],
      "metadata": {
        "id": "UU5aegSMGVV1"
      },
      "execution_count": null,
      "outputs": []
    },
    {
      "cell_type": "code",
      "source": [
        "ndf3 = pd.merge(df5, ndf2, on=\"SalesOrderLineKey\")"
      ],
      "metadata": {
        "id": "x3I99DbSMVXv"
      },
      "execution_count": null,
      "outputs": []
    },
    {
      "cell_type": "code",
      "source": [
        "ndf3.head()"
      ],
      "metadata": {
        "id": "AbhdDphUMdGY"
      },
      "execution_count": null,
      "outputs": []
    },
    {
      "cell_type": "code",
      "source": [
        "ndf4 = pd.merge(df6, ndf3, on=\"SalesTerritoryKey\")"
      ],
      "metadata": {
        "id": "Bkc5naTsMeik"
      },
      "execution_count": null,
      "outputs": []
    },
    {
      "cell_type": "code",
      "source": [
        "ndf4.head()"
      ],
      "metadata": {
        "id": "ofiDF68PHZF7"
      },
      "execution_count": null,
      "outputs": []
    },
    {
      "cell_type": "code",
      "source": [
        "ndf4.shape"
      ],
      "metadata": {
        "id": "u_aRQILGHapG"
      },
      "execution_count": null,
      "outputs": []
    },
    {
      "cell_type": "code",
      "source": [
        "indexNeg = ndf4[ ndf4['ResellerKey'] ==  -1 ].index\n",
        "indexNeg"
      ],
      "metadata": {
        "id": "MS0ysj5vIhD9"
      },
      "execution_count": null,
      "outputs": []
    },
    {
      "cell_type": "code",
      "source": [
        "indexs = df4[ df4['ResellerKey'] ==  -1].index\n",
        "indexs"
      ],
      "metadata": {
        "id": "rQhU-A74Izor"
      },
      "execution_count": null,
      "outputs": []
    },
    {
      "cell_type": "code",
      "source": [
        "ndf_reseller_sales_data = pd.merge(df3, df4, on=\"ResellerKey\")"
      ],
      "metadata": {
        "id": "Nt8_OddNJER6"
      },
      "execution_count": null,
      "outputs": []
    },
    {
      "cell_type": "code",
      "source": [
        "ndf_reseller_sales_data.shape"
      ],
      "metadata": {
        "id": "dCDG3CsTJfut"
      },
      "execution_count": null,
      "outputs": []
    },
    {
      "cell_type": "code",
      "source": [
        "ndf_reseller_sales_data.head()"
      ],
      "metadata": {
        "id": "TpEevYzyJhR4"
      },
      "execution_count": null,
      "outputs": []
    },
    {
      "cell_type": "markdown",
      "source": [
        "## `Exploratory Data Analysis`"
      ],
      "metadata": {
        "id": "nWscOcv7UoX-"
      }
    },
    {
      "cell_type": "code",
      "source": [
        "# getting the unique categorical variable\n",
        "categorical = ndf4.select_dtypes(['category', 'object']).columns \n",
        "for col in categorical:\n",
        "    print('{} : {} unique value(s)'.format(col, ndf4[col].nunique()))"
      ],
      "metadata": {
        "id": "ZrYUFnqWTZTd"
      },
      "execution_count": null,
      "outputs": []
    },
    {
      "cell_type": "code",
      "source": [
        "# get the number of missing data points per column\n",
        "missing_values_count = ndf4.isnull().sum()\n",
        "\n",
        "missing_values_count"
      ],
      "metadata": {
        "id": "JrvdxWbmU0zp"
      },
      "execution_count": null,
      "outputs": []
    },
    {
      "cell_type": "code",
      "source": [
        "# let's make a correlation matrix for `sales_data`\n",
        "plt.figure(figsize=(24, 18)) # figure the size\n",
        "sns.heatmap(df4.corr(), annot=True) # create a heatmap\n",
        "plt.title(\"Sales Data Correlation\", weight=\"bold\", fontsize=10, pad=30) # title\n",
        "plt.xticks(weight=\"bold\", fontsize=7) # x-ticks\n",
        "plt.yticks(weight=\"bold\", fontsize=7); # y-ticks"
      ],
      "metadata": {
        "id": "AmeCh0AwU8aa",
        "outputId": "e55a5417-514b-4c69-f3bc-58b3852c71fa",
        "colab": {
          "base_uri": "https://localhost:8080/",
          "height": 1000
        }
      },
      "execution_count": 52,
      "outputs": [
        {
          "output_type": "display_data",
          "data": {
            "text/plain": [
              "<Figure size 1728x1296 with 2 Axes>"
            ],
            "image/png": "[encoded data removed]"
          },
          "metadata": {}
        }
      ]
    },
    {
      "cell_type": "code",
      "source": [
        "# set the seaborn style\n",
        "import seaborn as sns\n",
        "import matplotlib.pyplot as plt\n",
        "\n",
        "\n",
        "sns.set_style(\"darkgrid\") \n",
        "\n",
        "# let's make a correlation matrix for `sales_data`, `product_data`, `\n",
        "plt.figure(figsize=(24, 18)) # figure the size\n",
        "# create dataframe which will be used for heatmap plot\n",
        "corr_dataset = ndf4.drop(['ResellerKey', 'Order Quantity'], axis=1)\n",
        "sns.heatmap(corr_dataset.corr(), annot=True) # create a heatmap\n",
        "plt.title(\"Sales Data Correlation\",  fontsize=10, pad=30) # title\n",
        "plt.xticks(weight=\"bold\", fontsize=7) # x-ticks\n",
        "plt.yticks(weight=\"bold\", fontsize=7); # y-ticks"
      ],
      "metadata": {
        "id": "wtVjuO3RZfjf",
        "outputId": "b68f7b7c-6966-48b2-ac36-b57f8fd4595f",
        "colab": {
          "base_uri": "https://localhost:8080/",
          "height": 1000
        }
      },
      "execution_count": 53,
      "outputs": [
        {
          "output_type": "display_data",
          "data": {
            "text/plain": [
              "<Figure size 1728x1296 with 2 Axes>"
            ],
            "image/png": "[encoded data removed]"
          },
          "metadata": {}
        }
      ]
    },
    {
      "cell_type": "code",
      "source": [
        "# correlation from `sales_data`\n",
        "(ndf4.corr()['Gross Sales '] # transform it into data corr\n",
        "           .sort_values(ascending=False) # sort values\n",
        "           .to_frame() # change it into data frame\n",
        "           .T)"
      ],
      "metadata": {
        "id": "8tOjIV8XVMr5",
        "outputId": "b5e45489-516c-4d09-c8fe-85dc0213f845",
        "colab": {
          "base_uri": "https://localhost:8080/",
          "height": 179
        }
      },
      "execution_count": 54,
      "outputs": [
        {
          "output_type": "execute_result",
          "data": {
            "text/plain": [
              "              List Price  Unit Price  Gross Sales   Standard Cost  \\\n",
              "Gross Sales          1.0         1.0           1.0       0.997845   \n",
              "\n",
              "              Product Cost  Total Cost  Net Sales  SalesTerritoryKey  \\\n",
              "Gross Sales       0.997845    0.997845   0.995415           0.073906   \n",
              "\n",
              "              CustomerKey  ProductKey  SalesOrderLineKey  ShipDateKey  \\\n",
              "Gross Sales     -0.035415   -0.142207          -0.378956    -0.458601   \n",
              "\n",
              "              OrderDateKey  DueDateKey  ResellerKey  Order Quantity  \n",
              "Gross Sales      -0.461202   -0.461477          NaN             NaN  "
            ],
            "text/html": [
              "\n",
              "  <div id=\"df-9fdca840-9f02-4f4a-9f84-9270f35718cd\">\n",
              "    <div class=\"colab-df-container\">\n",
              "      <div>\n",
              "<style scoped>\n",
              "    .dataframe tbody tr th:only-of-type {\n",
              "        vertical-align: middle;\n",
              "    }\n",
              "\n",
              "    .dataframe tbody tr th {\n",
              "        vertical-align: top;\n",
              "    }\n",
              "\n",
              "    .dataframe thead th {\n",
              "        text-align: right;\n",
              "    }\n",
              "</style>\n",
              "<table border=\"1\" class=\"dataframe\">\n",
              "  <thead>\n",
              "    <tr style=\"text-align: right;\">\n",
              "      <th></th>\n",
              "      <th>List Price</th>\n",
              "      <th>Unit Price</th>\n",
              "      <th>Gross Sales</th>\n",
              "      <th>Standard Cost</th>\n",
              "      <th>Product Cost</th>\n",
              "      <th>Total Cost</th>\n",
              "      <th>Net Sales</th>\n",
              "      <th>SalesTerritoryKey</th>\n",
              "      <th>CustomerKey</th>\n",
              "      <th>ProductKey</th>\n",
              "      <th>SalesOrderLineKey</th>\n",
              "      <th>ShipDateKey</th>\n",
              "      <th>OrderDateKey</th>\n",
              "      <th>DueDateKey</th>\n",
              "      <th>ResellerKey</th>\n",
              "      <th>Order Quantity</th>\n",
              "    </tr>\n",
              "  </thead>\n",
              "  <tbody>\n",
              "    <tr>\n",
              "      <th>Gross Sales</th>\n",
              "      <td>1.0</td>\n",
              "      <td>1.0</td>\n",
              "      <td>1.0</td>\n",
              "      <td>0.997845</td>\n",
              "      <td>0.997845</td>\n",
              "      <td>0.997845</td>\n",
              "      <td>0.995415</td>\n",
              "      <td>0.073906</td>\n",
              "      <td>-0.035415</td>\n",
              "      <td>-0.142207</td>\n",
              "      <td>-0.378956</td>\n",
              "      <td>-0.458601</td>\n",
              "      <td>-0.461202</td>\n",
              "      <td>-0.461477</td>\n",
              "      <td>NaN</td>\n",
              "      <td>NaN</td>\n",
              "    </tr>\n",
              "  </tbody>\n",
              "</table>\n",
              "</div>\n",
              "      <button class=\"colab-df-convert\" onclick=\"convertToInteractive('df-9fdca840-9f02-4f4a-9f84-9270f35718cd')\"\n",
              "              title=\"Convert this dataframe to an interactive table.\"\n",
              "              style=\"display:none;\">\n",
              "        \n",
              "  <svg xmlns=\"http://www.w3.org/2000/svg\" height=\"24px\"viewBox=\"0 0 24 24\"\n",
              "       width=\"24px\">\n",
              "    <path d=\"M0 0h24v24H0V0z\" fill=\"none\"/>\n",
              "    <path d=\"M18.56 5.44l.94 2.06.94-2.06 2.06-.94-2.06-.94-.94-2.06-.94 2.06-2.06.94zm-11 1L8.5 8.5l.94-2.06 2.06-.94-2.06-.94L8.5 2.5l-.94 2.06-2.06.94zm10 10l.94 2.06.94-2.06 2.06-.94-2.06-.94-.94-2.06-.94 2.06-2.06.94z\"/><path d=\"M17.41 7.96l-1.37-1.37c-.4-.4-.92-.59-1.43-.59-.52 0-1.04.2-1.43.59L10.3 9.45l-7.72 7.72c-.78.78-.78 2.05 0 2.83L4 21.41c.39.39.9.59 1.41.59.51 0 1.02-.2 1.41-.59l7.78-7.78 2.81-2.81c.8-.78.8-2.07 0-2.86zM5.41 20L4 18.59l7.72-7.72 1.47 1.35L5.41 20z\"/>\n",
              "  </svg>\n",
              "      </button>\n",
              "      \n",
              "  <style>\n",
              "    .colab-df-container {\n",
              "      display:flex;\n",
              "      flex-wrap:wrap;\n",
              "      gap: 12px;\n",
              "    }\n",
              "\n",
              "    .colab-df-convert {\n",
              "      background-color: #E8F0FE;\n",
              "      border: none;\n",
              "      border-radius: 50%;\n",
              "      cursor: pointer;\n",
              "      display: none;\n",
              "      fill: #1967D2;\n",
              "      height: 32px;\n",
              "      padding: 0 0 0 0;\n",
              "      width: 32px;\n",
              "    }\n",
              "\n",
              "    .colab-df-convert:hover {\n",
              "      background-color: #E2EBFA;\n",
              "      box-shadow: 0px 1px 2px rgba(60, 64, 67, 0.3), 0px 1px 3px 1px rgba(60, 64, 67, 0.15);\n",
              "      fill: #174EA6;\n",
              "    }\n",
              "\n",
              "    [theme=dark] .colab-df-convert {\n",
              "      background-color: #3B4455;\n",
              "      fill: #D2E3FC;\n",
              "    }\n",
              "\n",
              "    [theme=dark] .colab-df-convert:hover {\n",
              "      background-color: #434B5C;\n",
              "      box-shadow: 0px 1px 3px 1px rgba(0, 0, 0, 0.15);\n",
              "      filter: drop-shadow(0px 1px 2px rgba(0, 0, 0, 0.3));\n",
              "      fill: #FFFFFF;\n",
              "    }\n",
              "  </style>\n",
              "\n",
              "      <script>\n",
              "        const buttonEl =\n",
              "          document.querySelector('#df-9fdca840-9f02-4f4a-9f84-9270f35718cd button.colab-df-convert');\n",
              "        buttonEl.style.display =\n",
              "          google.colab.kernel.accessAllowed ? 'block' : 'none';\n",
              "\n",
              "        async function convertToInteractive(key) {\n",
              "          const element = document.querySelector('#df-9fdca840-9f02-4f4a-9f84-9270f35718cd');\n",
              "          const dataTable =\n",
              "            await google.colab.kernel.invokeFunction('convertToInteractive',\n",
              "                                                     [key], {});\n",
              "          if (!dataTable) return;\n",
              "\n",
              "          const docLinkHtml = 'Like what you see? Visit the ' +\n",
              "            '<a target=\"_blank\" href=https://colab.research.google.com/notebooks/data_table.ipynb>data table notebook</a>'\n",
              "            + ' to learn more about interactive tables.';\n",
              "          element.innerHTML = '';\n",
              "          dataTable['output_type'] = 'display_data';\n",
              "          await google.colab.output.renderOutput(dataTable, element);\n",
              "          const docLink = document.createElement('div');\n",
              "          docLink.innerHTML = docLinkHtml;\n",
              "          element.appendChild(docLink);\n",
              "        }\n",
              "      </script>\n",
              "    </div>\n",
              "  </div>\n",
              "  "
            ]
          },
          "metadata": {},
          "execution_count": 54
        }
      ]
    },
    {
      "cell_type": "code",
      "source": [
        "# statistical measure of the dataset\n",
        "ndf4.describe()"
      ],
      "metadata": {
        "id": "B5OphW6uW6yQ",
        "outputId": "16df9c8b-76d4-45f0-dac5-aad1d28214cc",
        "colab": {
          "base_uri": "https://localhost:8080/",
          "height": 382
        }
      },
      "execution_count": 55,
      "outputs": [
        {
          "output_type": "execute_result",
          "data": {
            "text/plain": [
              "       SalesTerritoryKey  SalesOrderLineKey    ProductKey  Standard Cost  \\\n",
              "count       60398.000000       6.039800e+04  60398.000000   60398.000000   \n",
              "mean            6.244462       6.184938e+07    437.557932     286.065657   \n",
              "std             2.961150       8.030547e+06    118.088390     552.457641   \n",
              "min             1.000000       4.369700e+07    214.000000       0.856500   \n",
              "25%             4.000000       5.556000e+07    359.000000       2.973300   \n",
              "50%             7.000000       6.210400e+07    479.000000      11.216300   \n",
              "75%             9.000000       6.865000e+07    529.000000     294.579700   \n",
              "max            10.000000       7.512300e+07    606.000000    2171.294200   \n",
              "\n",
              "         List Price   CustomerKey  ResellerKey  OrderDateKey    DueDateKey  \\\n",
              "count  60398.000000  60398.000000      60398.0  6.039800e+04  6.039800e+04   \n",
              "mean     486.086911  18841.685420         -1.0  2.019438e+07  2.019465e+07   \n",
              "std      928.489892   5432.430404          0.0  6.435660e+03  6.432749e+03   \n",
              "min        2.290000  11000.000000         -1.0  2.017070e+07  2.017071e+07   \n",
              "25%        7.950000  14003.000000         -1.0  2.019090e+07  2.019091e+07   \n",
              "50%       29.990000  18143.000000         -1.0  2.019122e+07  2.019122e+07   \n",
              "75%      539.990000  23429.750000         -1.0  2.020032e+07  2.020033e+07   \n",
              "max     3578.270000  29483.000000         -1.0  2.020062e+07  2.020062e+07   \n",
              "\n",
              "        ShipDateKey  Order Quantity    Unit Price  Product Cost  Gross Sales   \\\n",
              "count  5.937800e+04         60398.0  60398.000000  60398.000000  60398.000000   \n",
              "mean   2.019447e+07             1.0    486.086911    286.065657    486.086911   \n",
              "std    6.443396e+03             0.0    928.489892    552.457641    928.489892   \n",
              "min    2.017071e+07             1.0      2.290000      0.856500      2.290000   \n",
              "25%    2.019091e+07             1.0      7.950000      2.973300      7.950000   \n",
              "50%    2.019122e+07             1.0     29.990000     11.216300     29.990000   \n",
              "75%    2.020032e+07             1.0    539.990000    294.579700    539.990000   \n",
              "max    2.020062e+07             1.0   3578.270000   2171.294200   3578.270000   \n",
              "\n",
              "         Total Cost     Net Sales  \n",
              "count  60398.000000  60398.000000  \n",
              "mean     286.065657    200.021253  \n",
              "std      552.457641    378.959898  \n",
              "min        0.856500      1.433500  \n",
              "25%        2.973300      3.123700  \n",
              "50%       11.216300     15.643700  \n",
              "75%      294.579700    196.340400  \n",
              "max     2171.294200   1487.835600  "
            ],
            "text/html": [
              "\n",
              "  <div id=\"df-4d96fb3c-8af6-492a-962b-e871120ea23b\">\n",
              "    <div class=\"colab-df-container\">\n",
              "      <div>\n",
              "<style scoped>\n",
              "    .dataframe tbody tr th:only-of-type {\n",
              "        vertical-align: middle;\n",
              "    }\n",
              "\n",
              "    .dataframe tbody tr th {\n",
              "        vertical-align: top;\n",
              "    }\n",
              "\n",
              "    .dataframe thead th {\n",
              "        text-align: right;\n",
              "    }\n",
              "</style>\n",
              "<table border=\"1\" class=\"dataframe\">\n",
              "  <thead>\n",
              "    <tr style=\"text-align: right;\">\n",
              "      <th></th>\n",
              "      <th>SalesTerritoryKey</th>\n",
              "      <th>SalesOrderLineKey</th>\n",
              "      <th>ProductKey</th>\n",
              "      <th>Standard Cost</th>\n",
              "      <th>List Price</th>\n",
              "      <th>CustomerKey</th>\n",
              "      <th>ResellerKey</th>\n",
              "      <th>OrderDateKey</th>\n",
              "      <th>DueDateKey</th>\n",
              "      <th>ShipDateKey</th>\n",
              "      <th>Order Quantity</th>\n",
              "      <th>Unit Price</th>\n",
              "      <th>Product Cost</th>\n",
              "      <th>Gross Sales</th>\n",
              "      <th>Total Cost</th>\n",
              "      <th>Net Sales</th>\n",
              "    </tr>\n",
              "  </thead>\n",
              "  <tbody>\n",
              "    <tr>\n",
              "      <th>count</th>\n",
              "      <td>60398.000000</td>\n",
              "      <td>6.039800e+04</td>\n",
              "      <td>60398.000000</td>\n",
              "      <td>60398.000000</td>\n",
              "      <td>60398.000000</td>\n",
              "      <td>60398.000000</td>\n",
              "      <td>60398.0</td>\n",
              "      <td>6.039800e+04</td>\n",
              "      <td>6.039800e+04</td>\n",
              "      <td>5.937800e+04</td>\n",
              "      <td>60398.0</td>\n",
              "      <td>60398.000000</td>\n",
              "      <td>60398.000000</td>\n",
              "      <td>60398.000000</td>\n",
              "      <td>60398.000000</td>\n",
              "      <td>60398.000000</td>\n",
              "    </tr>\n",
              "    <tr>\n",
              "      <th>mean</th>\n",
              "      <td>6.244462</td>\n",
              "      <td>6.184938e+07</td>\n",
              "      <td>437.557932</td>\n",
              "      <td>286.065657</td>\n",
              "      <td>486.086911</td>\n",
              "      <td>18841.685420</td>\n",
              "      <td>-1.0</td>\n",
              "      <td>2.019438e+07</td>\n",
              "      <td>2.019465e+07</td>\n",
              "      <td>2.019447e+07</td>\n",
              "      <td>1.0</td>\n",
              "      <td>486.086911</td>\n",
              "      <td>286.065657</td>\n",
              "      <td>486.086911</td>\n",
              "      <td>286.065657</td>\n",
              "      <td>200.021253</td>\n",
              "    </tr>\n",
              "    <tr>\n",
              "      <th>std</th>\n",
              "      <td>2.961150</td>\n",
              "      <td>8.030547e+06</td>\n",
              "      <td>118.088390</td>\n",
              "      <td>552.457641</td>\n",
              "      <td>928.489892</td>\n",
              "      <td>5432.430404</td>\n",
              "      <td>0.0</td>\n",
              "      <td>6.435660e+03</td>\n",
              "      <td>6.432749e+03</td>\n",
              "      <td>6.443396e+03</td>\n",
              "      <td>0.0</td>\n",
              "      <td>928.489892</td>\n",
              "      <td>552.457641</td>\n",
              "      <td>928.489892</td>\n",
              "      <td>552.457641</td>\n",
              "      <td>378.959898</td>\n",
              "    </tr>\n",
              "    <tr>\n",
              "      <th>min</th>\n",
              "      <td>1.000000</td>\n",
              "      <td>4.369700e+07</td>\n",
              "      <td>214.000000</td>\n",
              "      <td>0.856500</td>\n",
              "      <td>2.290000</td>\n",
              "      <td>11000.000000</td>\n",
              "      <td>-1.0</td>\n",
              "      <td>2.017070e+07</td>\n",
              "      <td>2.017071e+07</td>\n",
              "      <td>2.017071e+07</td>\n",
              "      <td>1.0</td>\n",
              "      <td>2.290000</td>\n",
              "      <td>0.856500</td>\n",
              "      <td>2.290000</td>\n",
              "      <td>0.856500</td>\n",
              "      <td>1.433500</td>\n",
              "    </tr>\n",
              "    <tr>\n",
              "      <th>25%</th>\n",
              "      <td>4.000000</td>\n",
              "      <td>5.556000e+07</td>\n",
              "      <td>359.000000</td>\n",
              "      <td>2.973300</td>\n",
              "      <td>7.950000</td>\n",
              "      <td>14003.000000</td>\n",
              "      <td>-1.0</td>\n",
              "      <td>2.019090e+07</td>\n",
              "      <td>2.019091e+07</td>\n",
              "      <td>2.019091e+07</td>\n",
              "      <td>1.0</td>\n",
              "      <td>7.950000</td>\n",
              "      <td>2.973300</td>\n",
              "      <td>7.950000</td>\n",
              "      <td>2.973300</td>\n",
              "      <td>3.123700</td>\n",
              "    </tr>\n",
              "    <tr>\n",
              "      <th>50%</th>\n",
              "      <td>7.000000</td>\n",
              "      <td>6.210400e+07</td>\n",
              "      <td>479.000000</td>\n",
              "      <td>11.216300</td>\n",
              "      <td>29.990000</td>\n",
              "      <td>18143.000000</td>\n",
              "      <td>-1.0</td>\n",
              "      <td>2.019122e+07</td>\n",
              "      <td>2.019122e+07</td>\n",
              "      <td>2.019122e+07</td>\n",
              "      <td>1.0</td>\n",
              "      <td>29.990000</td>\n",
              "      <td>11.216300</td>\n",
              "      <td>29.990000</td>\n",
              "      <td>11.216300</td>\n",
              "      <td>15.643700</td>\n",
              "    </tr>\n",
              "    <tr>\n",
              "      <th>75%</th>\n",
              "      <td>9.000000</td>\n",
              "      <td>6.865000e+07</td>\n",
              "      <td>529.000000</td>\n",
              "      <td>294.579700</td>\n",
              "      <td>539.990000</td>\n",
              "      <td>23429.750000</td>\n",
              "      <td>-1.0</td>\n",
              "      <td>2.020032e+07</td>\n",
              "      <td>2.020033e+07</td>\n",
              "      <td>2.020032e+07</td>\n",
              "      <td>1.0</td>\n",
              "      <td>539.990000</td>\n",
              "      <td>294.579700</td>\n",
              "      <td>539.990000</td>\n",
              "      <td>294.579700</td>\n",
              "      <td>196.340400</td>\n",
              "    </tr>\n",
              "    <tr>\n",
              "      <th>max</th>\n",
              "      <td>10.000000</td>\n",
              "      <td>7.512300e+07</td>\n",
              "      <td>606.000000</td>\n",
              "      <td>2171.294200</td>\n",
              "      <td>3578.270000</td>\n",
              "      <td>29483.000000</td>\n",
              "      <td>-1.0</td>\n",
              "      <td>2.020062e+07</td>\n",
              "      <td>2.020062e+07</td>\n",
              "      <td>2.020062e+07</td>\n",
              "      <td>1.0</td>\n",
              "      <td>3578.270000</td>\n",
              "      <td>2171.294200</td>\n",
              "      <td>3578.270000</td>\n",
              "      <td>2171.294200</td>\n",
              "      <td>1487.835600</td>\n",
              "    </tr>\n",
              "  </tbody>\n",
              "</table>\n",
              "</div>\n",
              "      <button class=\"colab-df-convert\" onclick=\"convertToInteractive('df-4d96fb3c-8af6-492a-962b-e871120ea23b')\"\n",
              "              title=\"Convert this dataframe to an interactive table.\"\n",
              "              style=\"display:none;\">\n",
              "        \n",
              "  <svg xmlns=\"http://www.w3.org/2000/svg\" height=\"24px\"viewBox=\"0 0 24 24\"\n",
              "       width=\"24px\">\n",
              "    <path d=\"M0 0h24v24H0V0z\" fill=\"none\"/>\n",
              "    <path d=\"M18.56 5.44l.94 2.06.94-2.06 2.06-.94-2.06-.94-.94-2.06-.94 2.06-2.06.94zm-11 1L8.5 8.5l.94-2.06 2.06-.94-2.06-.94L8.5 2.5l-.94 2.06-2.06.94zm10 10l.94 2.06.94-2.06 2.06-.94-2.06-.94-.94-2.06-.94 2.06-2.06.94z\"/><path d=\"M17.41 7.96l-1.37-1.37c-.4-.4-.92-.59-1.43-.59-.52 0-1.04.2-1.43.59L10.3 9.45l-7.72 7.72c-.78.78-.78 2.05 0 2.83L4 21.41c.39.39.9.59 1.41.59.51 0 1.02-.2 1.41-.59l7.78-7.78 2.81-2.81c.8-.78.8-2.07 0-2.86zM5.41 20L4 18.59l7.72-7.72 1.47 1.35L5.41 20z\"/>\n",
              "  </svg>\n",
              "      </button>\n",
              "      \n",
              "  <style>\n",
              "    .colab-df-container {\n",
              "      display:flex;\n",
              "      flex-wrap:wrap;\n",
              "      gap: 12px;\n",
              "    }\n",
              "\n",
              "    .colab-df-convert {\n",
              "      background-color: #E8F0FE;\n",
              "      border: none;\n",
              "      border-radius: 50%;\n",
              "      cursor: pointer;\n",
              "      display: none;\n",
              "      fill: #1967D2;\n",
              "      height: 32px;\n",
              "      padding: 0 0 0 0;\n",
              "      width: 32px;\n",
              "    }\n",
              "\n",
              "    .colab-df-convert:hover {\n",
              "      background-color: #E2EBFA;\n",
              "      box-shadow: 0px 1px 2px rgba(60, 64, 67, 0.3), 0px 1px 3px 1px rgba(60, 64, 67, 0.15);\n",
              "      fill: #174EA6;\n",
              "    }\n",
              "\n",
              "    [theme=dark] .colab-df-convert {\n",
              "      background-color: #3B4455;\n",
              "      fill: #D2E3FC;\n",
              "    }\n",
              "\n",
              "    [theme=dark] .colab-df-convert:hover {\n",
              "      background-color: #434B5C;\n",
              "      box-shadow: 0px 1px 3px 1px rgba(0, 0, 0, 0.15);\n",
              "      filter: drop-shadow(0px 1px 2px rgba(0, 0, 0, 0.3));\n",
              "      fill: #FFFFFF;\n",
              "    }\n",
              "  </style>\n",
              "\n",
              "      <script>\n",
              "        const buttonEl =\n",
              "          document.querySelector('#df-4d96fb3c-8af6-492a-962b-e871120ea23b button.colab-df-convert');\n",
              "        buttonEl.style.display =\n",
              "          google.colab.kernel.accessAllowed ? 'block' : 'none';\n",
              "\n",
              "        async function convertToInteractive(key) {\n",
              "          const element = document.querySelector('#df-4d96fb3c-8af6-492a-962b-e871120ea23b');\n",
              "          const dataTable =\n",
              "            await google.colab.kernel.invokeFunction('convertToInteractive',\n",
              "                                                     [key], {});\n",
              "          if (!dataTable) return;\n",
              "\n",
              "          const docLinkHtml = 'Like what you see? Visit the ' +\n",
              "            '<a target=\"_blank\" href=https://colab.research.google.com/notebooks/data_table.ipynb>data table notebook</a>'\n",
              "            + ' to learn more about interactive tables.';\n",
              "          element.innerHTML = '';\n",
              "          dataTable['output_type'] = 'display_data';\n",
              "          await google.colab.output.renderOutput(dataTable, element);\n",
              "          const docLink = document.createElement('div');\n",
              "          docLink.innerHTML = docLinkHtml;\n",
              "          element.appendChild(docLink);\n",
              "        }\n",
              "      </script>\n",
              "    </div>\n",
              "  </div>\n",
              "  "
            ]
          },
          "metadata": {},
          "execution_count": 55
        }
      ]
    },
    {
      "cell_type": "code",
      "source": [
        "# checking skewness value\n",
        "skew_value = ndf4.skew().sort_values(ascending=False)\n",
        "skew_value"
      ],
      "metadata": {
        "id": "JE2U7lSpXJZX",
        "outputId": "9714fd3b-0f28-470e-b4f6-ee3ffddc80d8",
        "colab": {
          "base_uri": "https://localhost:8080/"
        }
      },
      "execution_count": 56,
      "outputs": [
        {
          "output_type": "stream",
          "name": "stderr",
          "text": [
            "<ipython-input-56-b80e6fc69dd5>:2: FutureWarning: Dropping of nuisance columns in DataFrame reductions (with 'numeric_only=None') is deprecated; in a future version this will raise TypeError.  Select only valid columns before calling the reduction.\n",
            "  skew_value = ndf4.skew().sort_values(ascending=False)\n"
          ]
        },
        {
          "output_type": "execute_result",
          "data": {
            "text/plain": [
              "Standard Cost        1.950547\n",
              "Total Cost           1.950547\n",
              "Product Cost         1.950547\n",
              "Net Sales            1.936264\n",
              "Gross Sales          1.927515\n",
              "List Price           1.927515\n",
              "Unit Price           1.927515\n",
              "CustomerKey          0.283653\n",
              "ResellerKey          0.000000\n",
              "Order Quantity       0.000000\n",
              "SalesOrderLineKey   -0.205583\n",
              "SalesTerritoryKey   -0.485271\n",
              "ProductKey          -0.798796\n",
              "yy                  -0.997869\n",
              "OrderDateKey        -1.105403\n",
              "ShipDateKey         -1.119776\n",
              "DueDateKey          -1.150329\n",
              "dtype: float64"
            ]
          },
          "metadata": {},
          "execution_count": 56
        }
      ]
    },
    {
      "cell_type": "markdown",
      "source": [
        "##### `From the above skewness values, we can see that, Product Cost, List Price and Gross Sales are skewed values; since, the skewness value which lies between -0.5 to 0.5  then it is normal.`"
      ],
      "metadata": {
        "id": "P7CgbEScXXoF"
      }
    },
    {
      "cell_type": "code",
      "source": [
        "def statistical_probability(frequency, total_frequency):\n",
        "    return frequency / total_frequency\n",
        "\n",
        "product = ndf4.ProductKey.value_counts().sum()"
      ],
      "metadata": {
        "id": "Pbac991LXSlc"
      },
      "execution_count": 57,
      "outputs": []
    },
    {
      "cell_type": "code",
      "source": [
        "ndf4.ProductKey"
      ],
      "metadata": {
        "id": "ZHjKOkYSfI7y",
        "outputId": "14bb9e35-7938-48a2-dd9b-cb71a07d9da0",
        "colab": {
          "base_uri": "https://localhost:8080/"
        }
      },
      "execution_count": 58,
      "outputs": [
        {
          "output_type": "execute_result",
          "data": {
            "text/plain": [
              "0        346\n",
              "1        314\n",
              "2        311\n",
              "3        332\n",
              "4        312\n",
              "        ... \n",
              "60393    222\n",
              "60394    231\n",
              "60395    530\n",
              "60396    530\n",
              "60397    467\n",
              "Name: ProductKey, Length: 60398, dtype: int64"
            ]
          },
          "metadata": {},
          "execution_count": 58
        }
      ]
    },
    {
      "cell_type": "code",
      "source": [
        "product_346 = ndf4[ndf4.ProductKey == 346].value_counts().sum()\n",
        "\n",
        "# Calculating product_346 Probability\n",
        "product_probability = statistical_probability(product_346, product)\n",
        "no_product_probability = 1 - product_probability\n",
        "print('Probability that people will order product key number - 346: %.2f%%' % product_probability)\n",
        "print('Probability that people will not order product key number - 346: %.2f%%' % no_product_probability)"
      ],
      "metadata": {
        "id": "f7UsUeScfRU0",
        "outputId": "f965f38e-36fa-4895-9208-0f357845d1d3",
        "colab": {
          "base_uri": "https://localhost:8080/"
        }
      },
      "execution_count": 59,
      "outputs": [
        {
          "output_type": "stream",
          "name": "stdout",
          "text": [
            "Probability that people will order product key number - 346: 0.00%\n",
            "Probability that people will not order product key number - 346: 1.00%\n"
          ]
        }
      ]
    },
    {
      "cell_type": "code",
      "source": [
        "ndf4.columns"
      ],
      "metadata": {
        "id": "DYqU6iVBgDM_",
        "outputId": "09980685-e6ea-47d8-8fde-4e7badc2eaf6",
        "colab": {
          "base_uri": "https://localhost:8080/"
        }
      },
      "execution_count": 60,
      "outputs": [
        {
          "output_type": "execute_result",
          "data": {
            "text/plain": [
              "Index(['SalesTerritoryKey', 'Region', 'Country', 'Group', 'Channel',\n",
              "       'SalesOrderLineKey', 'Sales Order', 'Sales Order Line', 'ProductKey',\n",
              "       'SKU', 'Product', 'Standard Cost', 'Color', 'List Price', 'Model',\n",
              "       'Subcategory', 'Category', 'CustomerKey', 'Customer ID', 'Customer',\n",
              "       'City', 'State-Province', 'Country-Region', 'Postal Code',\n",
              "       'ResellerKey', 'OrderDateKey', 'DueDateKey', 'ShipDateKey',\n",
              "       'Order Quantity', 'Unit Price', 'Product Cost', 'Gross Sales ',\n",
              "       'Total Cost', 'Net Sales', 'yy'],\n",
              "      dtype='object')"
            ]
          },
          "metadata": {},
          "execution_count": 60
        }
      ]
    },
    {
      "cell_type": "markdown",
      "source": [
        "## `Region with highest number of sales`"
      ],
      "metadata": {
        "id": "d1fG61oef-mw"
      }
    },
    {
      "cell_type": "code",
      "source": [
        "# group of the highest number of sales in city\n",
        "highest_number_of_sales = ndf4.groupby('Country').sum().astype('int')\n",
        "\n",
        "# let's plot it\n",
        "plt.figure(figsize=(24, 14)) # figuring the size\n",
        "\n",
        "# makes bar plot \n",
        "sns.barplot( # barplot\n",
        "    x=highest_number_of_sales.index, # x-axis\n",
        "    y=highest_number_of_sales[\"Gross Sales \"], # y-axis\n",
        "    data=highest_number_of_sales, # data\n",
        "    palette=\"deep\" # palette\n",
        ")\n",
        "plt.title( # title\n",
        "    \"Countries with the Highest number of Sales\", \n",
        "    fontname=\"monospace\", # font-name\n",
        "    weight=\"bold\", # weight\n",
        "    fontsize=35, # font-size\n",
        "    pad=30 # padding\n",
        ")\n",
        "plt.xlabel( # x-label\n",
        "    \"Countries\", \n",
        "    weight=\"bold\", # weight\n",
        "    fontsize=25, # font-size\n",
        "    loc=\"center\" # location\n",
        ")\n",
        "plt.xticks( # x-ticks\n",
        "    weight=\"bold\", # weight\n",
        "    fontsize=15, # font-size\n",
        "    rotation=10\n",
        ")\n",
        "plt.ylabel( # y-label\n",
        "    \"Gross Sales\", \n",
        "    weight=\"bold\", # weight\n",
        "    fontsize=20 # font-size\n",
        ")\n",
        "plt.yticks( # y-ticks\n",
        "    weight=\"bold\", # weight \n",
        "    fontsize=15 # font-size\n",
        ");"
      ],
      "metadata": {
        "id": "HfQ2cawzfvy1",
        "outputId": "fa5c08a9-bc90-4a0a-e650-95afafc6a10b",
        "colab": {
          "base_uri": "https://localhost:8080/",
          "height": 826
        }
      },
      "execution_count": 61,
      "outputs": [
        {
          "output_type": "display_data",
          "data": {
            "text/plain": [
              "<Figure size 1728x1008 with 1 Axes>"
            ],
            "image/png": "[encoded data removed]"
          },
          "metadata": {}
        }
      ]
    },
    {
      "cell_type": "code",
      "source": [
        "df4 = df4[df4.yy != '2']"
      ],
      "metadata": {
        "id": "VtxFImqGaWA5"
      },
      "execution_count": 62,
      "outputs": []
    },
    {
      "cell_type": "code",
      "source": [
        "df4.head()"
      ],
      "metadata": {
        "id": "VUFJ73RpZRqR",
        "outputId": "e6e5f7b4-fdca-4546-c681-449dbab1b179",
        "colab": {
          "base_uri": "https://localhost:8080/",
          "height": 288
        }
      },
      "execution_count": 63,
      "outputs": [
        {
          "output_type": "execute_result",
          "data": {
            "text/plain": [
              "   SalesOrderLineKey  ResellerKey  CustomerKey  ProductKey  OrderDateKey  \\\n",
              "0           43659001          676           -1         349      20170702   \n",
              "1           43659002          676           -1         350      20170702   \n",
              "2           43659003          676           -1         351      20170702   \n",
              "3           43659004          676           -1         344      20170702   \n",
              "4           43659005          676           -1         345      20170702   \n",
              "\n",
              "   DueDateKey  ShipDateKey  SalesTerritoryKey  Order Quantity  Unit Price  \\\n",
              "0    20170712   20170709.0                  5               1    2024.994   \n",
              "1    20170712   20170709.0                  5               3    2024.994   \n",
              "2    20170712   20170709.0                  5               1    2024.994   \n",
              "3    20170712   20170709.0                  5               1    2039.994   \n",
              "4    20170712   20170709.0                  5               1    2039.994   \n",
              "\n",
              "   Product Cost  Gross Sales   Total Cost  Net Sales    yy  \n",
              "0     1898.0944      2024.994   1898.0944   126.8996  2017  \n",
              "1     1898.0944      6074.982   5694.2832   380.6988  2017  \n",
              "2     1898.0944      2024.994   1898.0944   126.8996  2017  \n",
              "3     1912.1544      2039.994   1912.1544   127.8396  2017  \n",
              "4     1912.1544      2039.994   1912.1544   127.8396  2017  "
            ],
            "text/html": [
              "\n",
              "  <div id=\"df-b3e24b57-06fc-4085-a450-09d02c2d2314\">\n",
              "    <div class=\"colab-df-container\">\n",
              "      <div>\n",
              "<style scoped>\n",
              "    .dataframe tbody tr th:only-of-type {\n",
              "        vertical-align: middle;\n",
              "    }\n",
              "\n",
              "    .dataframe tbody tr th {\n",
              "        vertical-align: top;\n",
              "    }\n",
              "\n",
              "    .dataframe thead th {\n",
              "        text-align: right;\n",
              "    }\n",
              "</style>\n",
              "<table border=\"1\" class=\"dataframe\">\n",
              "  <thead>\n",
              "    <tr style=\"text-align: right;\">\n",
              "      <th></th>\n",
              "      <th>SalesOrderLineKey</th>\n",
              "      <th>ResellerKey</th>\n",
              "      <th>CustomerKey</th>\n",
              "      <th>ProductKey</th>\n",
              "      <th>OrderDateKey</th>\n",
              "      <th>DueDateKey</th>\n",
              "      <th>ShipDateKey</th>\n",
              "      <th>SalesTerritoryKey</th>\n",
              "      <th>Order Quantity</th>\n",
              "      <th>Unit Price</th>\n",
              "      <th>Product Cost</th>\n",
              "      <th>Gross Sales</th>\n",
              "      <th>Total Cost</th>\n",
              "      <th>Net Sales</th>\n",
              "      <th>yy</th>\n",
              "    </tr>\n",
              "  </thead>\n",
              "  <tbody>\n",
              "    <tr>\n",
              "      <th>0</th>\n",
              "      <td>43659001</td>\n",
              "      <td>676</td>\n",
              "      <td>-1</td>\n",
              "      <td>349</td>\n",
              "      <td>20170702</td>\n",
              "      <td>20170712</td>\n",
              "      <td>20170709.0</td>\n",
              "      <td>5</td>\n",
              "      <td>1</td>\n",
              "      <td>2024.994</td>\n",
              "      <td>1898.0944</td>\n",
              "      <td>2024.994</td>\n",
              "      <td>1898.0944</td>\n",
              "      <td>126.8996</td>\n",
              "      <td>2017</td>\n",
              "    </tr>\n",
              "    <tr>\n",
              "      <th>1</th>\n",
              "      <td>43659002</td>\n",
              "      <td>676</td>\n",
              "      <td>-1</td>\n",
              "      <td>350</td>\n",
              "      <td>20170702</td>\n",
              "      <td>20170712</td>\n",
              "      <td>20170709.0</td>\n",
              "      <td>5</td>\n",
              "      <td>3</td>\n",
              "      <td>2024.994</td>\n",
              "      <td>1898.0944</td>\n",
              "      <td>6074.982</td>\n",
              "      <td>5694.2832</td>\n",
              "      <td>380.6988</td>\n",
              "      <td>2017</td>\n",
              "    </tr>\n",
              "    <tr>\n",
              "      <th>2</th>\n",
              "      <td>43659003</td>\n",
              "      <td>676</td>\n",
              "      <td>-1</td>\n",
              "      <td>351</td>\n",
              "      <td>20170702</td>\n",
              "      <td>20170712</td>\n",
              "      <td>20170709.0</td>\n",
              "      <td>5</td>\n",
              "      <td>1</td>\n",
              "      <td>2024.994</td>\n",
              "      <td>1898.0944</td>\n",
              "      <td>2024.994</td>\n",
              "      <td>1898.0944</td>\n",
              "      <td>126.8996</td>\n",
              "      <td>2017</td>\n",
              "    </tr>\n",
              "    <tr>\n",
              "      <th>3</th>\n",
              "      <td>43659004</td>\n",
              "      <td>676</td>\n",
              "      <td>-1</td>\n",
              "      <td>344</td>\n",
              "      <td>20170702</td>\n",
              "      <td>20170712</td>\n",
              "      <td>20170709.0</td>\n",
              "      <td>5</td>\n",
              "      <td>1</td>\n",
              "      <td>2039.994</td>\n",
              "      <td>1912.1544</td>\n",
              "      <td>2039.994</td>\n",
              "      <td>1912.1544</td>\n",
              "      <td>127.8396</td>\n",
              "      <td>2017</td>\n",
              "    </tr>\n",
              "    <tr>\n",
              "      <th>4</th>\n",
              "      <td>43659005</td>\n",
              "      <td>676</td>\n",
              "      <td>-1</td>\n",
              "      <td>345</td>\n",
              "      <td>20170702</td>\n",
              "      <td>20170712</td>\n",
              "      <td>20170709.0</td>\n",
              "      <td>5</td>\n",
              "      <td>1</td>\n",
              "      <td>2039.994</td>\n",
              "      <td>1912.1544</td>\n",
              "      <td>2039.994</td>\n",
              "      <td>1912.1544</td>\n",
              "      <td>127.8396</td>\n",
              "      <td>2017</td>\n",
              "    </tr>\n",
              "  </tbody>\n",
              "</table>\n",
              "</div>\n",
              "      <button class=\"colab-df-convert\" onclick=\"convertToInteractive('df-b3e24b57-06fc-4085-a450-09d02c2d2314')\"\n",
              "              title=\"Convert this dataframe to an interactive table.\"\n",
              "              style=\"display:none;\">\n",
              "        \n",
              "  <svg xmlns=\"http://www.w3.org/2000/svg\" height=\"24px\"viewBox=\"0 0 24 24\"\n",
              "       width=\"24px\">\n",
              "    <path d=\"M0 0h24v24H0V0z\" fill=\"none\"/>\n",
              "    <path d=\"M18.56 5.44l.94 2.06.94-2.06 2.06-.94-2.06-.94-.94-2.06-.94 2.06-2.06.94zm-11 1L8.5 8.5l.94-2.06 2.06-.94-2.06-.94L8.5 2.5l-.94 2.06-2.06.94zm10 10l.94 2.06.94-2.06 2.06-.94-2.06-.94-.94-2.06-.94 2.06-2.06.94z\"/><path d=\"M17.41 7.96l-1.37-1.37c-.4-.4-.92-.59-1.43-.59-.52 0-1.04.2-1.43.59L10.3 9.45l-7.72 7.72c-.78.78-.78 2.05 0 2.83L4 21.41c.39.39.9.59 1.41.59.51 0 1.02-.2 1.41-.59l7.78-7.78 2.81-2.81c.8-.78.8-2.07 0-2.86zM5.41 20L4 18.59l7.72-7.72 1.47 1.35L5.41 20z\"/>\n",
              "  </svg>\n",
              "      </button>\n",
              "      \n",
              "  <style>\n",
              "    .colab-df-container {\n",
              "      display:flex;\n",
              "      flex-wrap:wrap;\n",
              "      gap: 12px;\n",
              "    }\n",
              "\n",
              "    .colab-df-convert {\n",
              "      background-color: #E8F0FE;\n",
              "      border: none;\n",
              "      border-radius: 50%;\n",
              "      cursor: pointer;\n",
              "      display: none;\n",
              "      fill: #1967D2;\n",
              "      height: 32px;\n",
              "      padding: 0 0 0 0;\n",
              "      width: 32px;\n",
              "    }\n",
              "\n",
              "    .colab-df-convert:hover {\n",
              "      background-color: #E2EBFA;\n",
              "      box-shadow: 0px 1px 2px rgba(60, 64, 67, 0.3), 0px 1px 3px 1px rgba(60, 64, 67, 0.15);\n",
              "      fill: #174EA6;\n",
              "    }\n",
              "\n",
              "    [theme=dark] .colab-df-convert {\n",
              "      background-color: #3B4455;\n",
              "      fill: #D2E3FC;\n",
              "    }\n",
              "\n",
              "    [theme=dark] .colab-df-convert:hover {\n",
              "      background-color: #434B5C;\n",
              "      box-shadow: 0px 1px 3px 1px rgba(0, 0, 0, 0.15);\n",
              "      filter: drop-shadow(0px 1px 2px rgba(0, 0, 0, 0.3));\n",
              "      fill: #FFFFFF;\n",
              "    }\n",
              "  </style>\n",
              "\n",
              "      <script>\n",
              "        const buttonEl =\n",
              "          document.querySelector('#df-b3e24b57-06fc-4085-a450-09d02c2d2314 button.colab-df-convert');\n",
              "        buttonEl.style.display =\n",
              "          google.colab.kernel.accessAllowed ? 'block' : 'none';\n",
              "\n",
              "        async function convertToInteractive(key) {\n",
              "          const element = document.querySelector('#df-b3e24b57-06fc-4085-a450-09d02c2d2314');\n",
              "          const dataTable =\n",
              "            await google.colab.kernel.invokeFunction('convertToInteractive',\n",
              "                                                     [key], {});\n",
              "          if (!dataTable) return;\n",
              "\n",
              "          const docLinkHtml = 'Like what you see? Visit the ' +\n",
              "            '<a target=\"_blank\" href=https://colab.research.google.com/notebooks/data_table.ipynb>data table notebook</a>'\n",
              "            + ' to learn more about interactive tables.';\n",
              "          element.innerHTML = '';\n",
              "          dataTable['output_type'] = 'display_data';\n",
              "          await google.colab.output.renderOutput(dataTable, element);\n",
              "          const docLink = document.createElement('div');\n",
              "          docLink.innerHTML = docLinkHtml;\n",
              "          element.appendChild(docLink);\n",
              "        }\n",
              "      </script>\n",
              "    </div>\n",
              "  </div>\n",
              "  "
            ]
          },
          "metadata": {},
          "execution_count": 63
        }
      ]
    },
    {
      "cell_type": "code",
      "source": [
        "from statsmodels.graphics.gofplots import qqplot\n",
        "def univariate_analysis(data, color, title1):\n",
        "  plt.figure(figsize=(24, 14))\n",
        "  plt.title( title1, \n",
        "    fontname=\"monospace\", # font-name\n",
        "    fontsize=35, # font-size\n",
        ")\n",
        "  sns.distplot(\n",
        "      data, # data\n",
        "      kde=True, # kde\n",
        "      color=color # color\n",
        "    )\n",
        "  plt.show()"
      ],
      "metadata": {
        "id": "HfHQEACbgL2O"
      },
      "execution_count": 64,
      "outputs": []
    },
    {
      "cell_type": "code",
      "source": [
        "univariate_analysis( \n",
        "    data=df4['Order Quantity'], \n",
        "    color='green', \n",
        "    title1='Order Quantity Data Distribution',\n",
        ");"
      ],
      "metadata": {
        "id": "Wyu55ilO4f8w",
        "outputId": "4a819365-7872-44df-d6ae-6838a44c2672",
        "colab": {
          "base_uri": "https://localhost:8080/",
          "height": 959
        }
      },
      "execution_count": 65,
      "outputs": [
        {
          "output_type": "stream",
          "name": "stderr",
          "text": [
            "<ipython-input-64-5fc859a54f46>:8: UserWarning: \n",
            "\n",
            "`distplot` is a deprecated function and will be removed in seaborn v0.14.0.\n",
            "\n",
            "Please adapt your code to use either `displot` (a figure-level function with\n",
            "similar flexibility) or `histplot` (an axes-level function for histograms).\n",
            "\n",
            "For a guide to updating your code to use the new functions, please see\n",
            "https://gist.github.com/mwaskom/de44147ed2974457ad6372750bbe5751\n",
            "\n",
            "  sns.distplot(\n"
          ]
        },
        {
          "output_type": "display_data",
          "data": {
            "text/plain": [
              "<Figure size 1728x1008 with 1 Axes>"
            ],
            "image/png": "[encoded data removed]"
          },
          "metadata": {}
        }
      ]
    },
    {
      "cell_type": "code",
      "source": [
        "df4.columns"
      ],
      "metadata": {
        "id": "H6KJ2HwF4gCT",
        "outputId": "f9c98b4a-f382-41e0-f893-349f98c2ed80",
        "colab": {
          "base_uri": "https://localhost:8080/"
        }
      },
      "execution_count": 66,
      "outputs": [
        {
          "output_type": "execute_result",
          "data": {
            "text/plain": [
              "Index(['SalesOrderLineKey', 'ResellerKey', 'CustomerKey', 'ProductKey',\n",
              "       'OrderDateKey', 'DueDateKey', 'ShipDateKey', 'SalesTerritoryKey',\n",
              "       'Order Quantity', 'Unit Price', 'Product Cost', 'Gross Sales ',\n",
              "       'Total Cost', 'Net Sales', 'yy'],\n",
              "      dtype='object')"
            ]
          },
          "metadata": {},
          "execution_count": 66
        }
      ]
    },
    {
      "cell_type": "code",
      "source": [
        "# yearwise net sales\n",
        "\n",
        "# let's plot it\n",
        "plt.figure(figsize=(24, 10)) # figuring the size\n",
        "\n",
        "sns.barplot( # barplot\n",
        "    x=\"yy\", # x-axis\n",
        "    y=\"Gross Sales \", # y-axis\n",
        "    data=df4, # data\n",
        "    palette=\"deep\" # palette\n",
        ")\n",
        "plt.title( # title\n",
        "    \"Net Sales Vs Year\", \n",
        "    fontname=\"monospace\", # font-name\n",
        "    weight=\"bold\", # weiqht\n",
        "    fontsize=35, # font-size\n",
        "    pad=30 # padding\n",
        ")\n",
        "plt.xlabel( # x-label\n",
        "    \"Year\", \n",
        "    weight=\"bold\", # weight\n",
        "    fontsize=25, # font-size\n",
        "    loc=\"center\" # location\n",
        ")\n",
        "plt.xticks( # x-ticks\n",
        "    weight=\"bold\", # weight\n",
        "    fontsize=15 # font-size\n",
        ")\n",
        "plt.ylabel( # y-label\n",
        "    \"Net Sales\", \n",
        "    weight=\"bold\", # weight\n",
        "    fontsize=20 # font-size\n",
        ")\n",
        "plt.yticks( # y-ticks\n",
        "    weight=\"bold\", # weight \n",
        "    fontsize=15 # font-size\n",
        ");"
      ],
      "metadata": {
        "id": "eZaVQnQU1gNb",
        "outputId": "76a178b1-6166-42f9-f554-0a4c04b39824",
        "colab": {
          "base_uri": "https://localhost:8080/",
          "height": 598
        }
      },
      "execution_count": 67,
      "outputs": [
        {
          "output_type": "display_data",
          "data": {
            "text/plain": [
              "<Figure size 1728x720 with 1 Axes>"
            ],
            "image/png": "[encoded data removed]"
          },
          "metadata": {}
        }
      ]
    },
    {
      "cell_type": "code",
      "source": [
        "ndf1.head()"
      ],
      "metadata": {
        "id": "ePZpv6i81oIk",
        "colab": {
          "base_uri": "https://localhost:8080/",
          "height": 317
        },
        "outputId": "440b428a-2eba-44cf-8d4c-93055659e8b8"
      },
      "execution_count": 68,
      "outputs": [
        {
          "output_type": "execute_result",
          "data": {
            "text/plain": [
              "   CustomerKey Customer ID  Customer         City State-Province  \\\n",
              "0        11000  AW00011000  Jon Yang  Rockhampton     Queensland   \n",
              "1        11000  AW00011000  Jon Yang  Rockhampton     Queensland   \n",
              "2        11000  AW00011000  Jon Yang  Rockhampton     Queensland   \n",
              "3        11000  AW00011000  Jon Yang  Rockhampton     Queensland   \n",
              "4        11000  AW00011000  Jon Yang  Rockhampton     Queensland   \n",
              "\n",
              "  Country-Region Postal Code  SalesOrderLineKey  ResellerKey  ProductKey  ...  \\\n",
              "0      Australia        4700           43793001           -1         344  ...   \n",
              "1      Australia        4700           51522001           -1         353  ...   \n",
              "2      Australia        4700           51522002           -1         485  ...   \n",
              "3      Australia        4700           57418001           -1         573  ...   \n",
              "4      Australia        4700           57418002           -1         541  ...   \n",
              "\n",
              "   DueDateKey  ShipDateKey  SalesTerritoryKey  Order Quantity  Unit Price  \\\n",
              "0    20170722   20170719.0                  9               1     3399.99   \n",
              "1    20190701   20190628.0                  9               1     2319.99   \n",
              "2    20190701   20190628.0                  9               1       21.98   \n",
              "3    20191014   20191011.0                  9               1     2384.07   \n",
              "4    20191014   20191011.0                  9               1       28.99   \n",
              "\n",
              "   Product Cost  Gross Sales   Total Cost  Net Sales    yy  \n",
              "0     1912.1544       3399.99   1912.1544  1487.8356  2017  \n",
              "1     1265.6195       2319.99   1265.6195  1054.3705  2019  \n",
              "2        8.2205         21.98      8.2205    13.7595  2019  \n",
              "3     1481.9379       2384.07   1481.9379   902.1321  2019  \n",
              "4       10.8423         28.99     10.8423    18.1477  2019  \n",
              "\n",
              "[5 rows x 21 columns]"
            ],
            "text/html": [
              "\n",
              "  <div id=\"df-61e0442f-6bd1-48eb-aeff-a92e48939d1b\">\n",
              "    <div class=\"colab-df-container\">\n",
              "      <div>\n",
              "<style scoped>\n",
              "    .dataframe tbody tr th:only-of-type {\n",
              "        vertical-align: middle;\n",
              "    }\n",
              "\n",
              "    .dataframe tbody tr th {\n",
              "        vertical-align: top;\n",
              "    }\n",
              "\n",
              "    .dataframe thead th {\n",
              "        text-align: right;\n",
              "    }\n",
              "</style>\n",
              "<table border=\"1\" class=\"dataframe\">\n",
              "  <thead>\n",
              "    <tr style=\"text-align: right;\">\n",
              "      <th></th>\n",
              "      <th>CustomerKey</th>\n",
              "      <th>Customer ID</th>\n",
              "      <th>Customer</th>\n",
              "      <th>City</th>\n",
              "      <th>State-Province</th>\n",
              "      <th>Country-Region</th>\n",
              "      <th>Postal Code</th>\n",
              "      <th>SalesOrderLineKey</th>\n",
              "      <th>ResellerKey</th>\n",
              "      <th>ProductKey</th>\n",
              "      <th>...</th>\n",
              "      <th>DueDateKey</th>\n",
              "      <th>ShipDateKey</th>\n",
              "      <th>SalesTerritoryKey</th>\n",
              "      <th>Order Quantity</th>\n",
              "      <th>Unit Price</th>\n",
              "      <th>Product Cost</th>\n",
              "      <th>Gross Sales</th>\n",
              "      <th>Total Cost</th>\n",
              "      <th>Net Sales</th>\n",
              "      <th>yy</th>\n",
              "    </tr>\n",
              "  </thead>\n",
              "  <tbody>\n",
              "    <tr>\n",
              "      <th>0</th>\n",
              "      <td>11000</td>\n",
              "      <td>AW00011000</td>\n",
              "      <td>Jon Yang</td>\n",
              "      <td>Rockhampton</td>\n",
              "      <td>Queensland</td>\n",
              "      <td>Australia</td>\n",
              "      <td>4700</td>\n",
              "      <td>43793001</td>\n",
              "      <td>-1</td>\n",
              "      <td>344</td>\n",
              "      <td>...</td>\n",
              "      <td>20170722</td>\n",
              "      <td>20170719.0</td>\n",
              "      <td>9</td>\n",
              "      <td>1</td>\n",
              "      <td>3399.99</td>\n",
              "      <td>1912.1544</td>\n",
              "      <td>3399.99</td>\n",
              "      <td>1912.1544</td>\n",
              "      <td>1487.8356</td>\n",
              "      <td>2017</td>\n",
              "    </tr>\n",
              "    <tr>\n",
              "      <th>1</th>\n",
              "      <td>11000</td>\n",
              "      <td>AW00011000</td>\n",
              "      <td>Jon Yang</td>\n",
              "      <td>Rockhampton</td>\n",
              "      <td>Queensland</td>\n",
              "      <td>Australia</td>\n",
              "      <td>4700</td>\n",
              "      <td>51522001</td>\n",
              "      <td>-1</td>\n",
              "      <td>353</td>\n",
              "      <td>...</td>\n",
              "      <td>20190701</td>\n",
              "      <td>20190628.0</td>\n",
              "      <td>9</td>\n",
              "      <td>1</td>\n",
              "      <td>2319.99</td>\n",
              "      <td>1265.6195</td>\n",
              "      <td>2319.99</td>\n",
              "      <td>1265.6195</td>\n",
              "      <td>1054.3705</td>\n",
              "      <td>2019</td>\n",
              "    </tr>\n",
              "    <tr>\n",
              "      <th>2</th>\n",
              "      <td>11000</td>\n",
              "      <td>AW00011000</td>\n",
              "      <td>Jon Yang</td>\n",
              "      <td>Rockhampton</td>\n",
              "      <td>Queensland</td>\n",
              "      <td>Australia</td>\n",
              "      <td>4700</td>\n",
              "      <td>51522002</td>\n",
              "      <td>-1</td>\n",
              "      <td>485</td>\n",
              "      <td>...</td>\n",
              "      <td>20190701</td>\n",
              "      <td>20190628.0</td>\n",
              "      <td>9</td>\n",
              "      <td>1</td>\n",
              "      <td>21.98</td>\n",
              "      <td>8.2205</td>\n",
              "      <td>21.98</td>\n",
              "      <td>8.2205</td>\n",
              "      <td>13.7595</td>\n",
              "      <td>2019</td>\n",
              "    </tr>\n",
              "    <tr>\n",
              "      <th>3</th>\n",
              "      <td>11000</td>\n",
              "      <td>AW00011000</td>\n",
              "      <td>Jon Yang</td>\n",
              "      <td>Rockhampton</td>\n",
              "      <td>Queensland</td>\n",
              "      <td>Australia</td>\n",
              "      <td>4700</td>\n",
              "      <td>57418001</td>\n",
              "      <td>-1</td>\n",
              "      <td>573</td>\n",
              "      <td>...</td>\n",
              "      <td>20191014</td>\n",
              "      <td>20191011.0</td>\n",
              "      <td>9</td>\n",
              "      <td>1</td>\n",
              "      <td>2384.07</td>\n",
              "      <td>1481.9379</td>\n",
              "      <td>2384.07</td>\n",
              "      <td>1481.9379</td>\n",
              "      <td>902.1321</td>\n",
              "      <td>2019</td>\n",
              "    </tr>\n",
              "    <tr>\n",
              "      <th>4</th>\n",
              "      <td>11000</td>\n",
              "      <td>AW00011000</td>\n",
              "      <td>Jon Yang</td>\n",
              "      <td>Rockhampton</td>\n",
              "      <td>Queensland</td>\n",
              "      <td>Australia</td>\n",
              "      <td>4700</td>\n",
              "      <td>57418002</td>\n",
              "      <td>-1</td>\n",
              "      <td>541</td>\n",
              "      <td>...</td>\n",
              "      <td>20191014</td>\n",
              "      <td>20191011.0</td>\n",
              "      <td>9</td>\n",
              "      <td>1</td>\n",
              "      <td>28.99</td>\n",
              "      <td>10.8423</td>\n",
              "      <td>28.99</td>\n",
              "      <td>10.8423</td>\n",
              "      <td>18.1477</td>\n",
              "      <td>2019</td>\n",
              "    </tr>\n",
              "  </tbody>\n",
              "</table>\n",
              "<p>5 rows × 21 columns</p>\n",
              "</div>\n",
              "      <button class=\"colab-df-convert\" onclick=\"convertToInteractive('df-61e0442f-6bd1-48eb-aeff-a92e48939d1b')\"\n",
              "              title=\"Convert this dataframe to an interactive table.\"\n",
              "              style=\"display:none;\">\n",
              "        \n",
              "  <svg xmlns=\"http://www.w3.org/2000/svg\" height=\"24px\"viewBox=\"0 0 24 24\"\n",
              "       width=\"24px\">\n",
              "    <path d=\"M0 0h24v24H0V0z\" fill=\"none\"/>\n",
              "    <path d=\"M18.56 5.44l.94 2.06.94-2.06 2.06-.94-2.06-.94-.94-2.06-.94 2.06-2.06.94zm-11 1L8.5 8.5l.94-2.06 2.06-.94-2.06-.94L8.5 2.5l-.94 2.06-2.06.94zm10 10l.94 2.06.94-2.06 2.06-.94-2.06-.94-.94-2.06-.94 2.06-2.06.94z\"/><path d=\"M17.41 7.96l-1.37-1.37c-.4-.4-.92-.59-1.43-.59-.52 0-1.04.2-1.43.59L10.3 9.45l-7.72 7.72c-.78.78-.78 2.05 0 2.83L4 21.41c.39.39.9.59 1.41.59.51 0 1.02-.2 1.41-.59l7.78-7.78 2.81-2.81c.8-.78.8-2.07 0-2.86zM5.41 20L4 18.59l7.72-7.72 1.47 1.35L5.41 20z\"/>\n",
              "  </svg>\n",
              "      </button>\n",
              "      \n",
              "  <style>\n",
              "    .colab-df-container {\n",
              "      display:flex;\n",
              "      flex-wrap:wrap;\n",
              "      gap: 12px;\n",
              "    }\n",
              "\n",
              "    .colab-df-convert {\n",
              "      background-color: #E8F0FE;\n",
              "      border: none;\n",
              "      border-radius: 50%;\n",
              "      cursor: pointer;\n",
              "      display: none;\n",
              "      fill: #1967D2;\n",
              "      height: 32px;\n",
              "      padding: 0 0 0 0;\n",
              "      width: 32px;\n",
              "    }\n",
              "\n",
              "    .colab-df-convert:hover {\n",
              "      background-color: #E2EBFA;\n",
              "      box-shadow: 0px 1px 2px rgba(60, 64, 67, 0.3), 0px 1px 3px 1px rgba(60, 64, 67, 0.15);\n",
              "      fill: #174EA6;\n",
              "    }\n",
              "\n",
              "    [theme=dark] .colab-df-convert {\n",
              "      background-color: #3B4455;\n",
              "      fill: #D2E3FC;\n",
              "    }\n",
              "\n",
              "    [theme=dark] .colab-df-convert:hover {\n",
              "      background-color: #434B5C;\n",
              "      box-shadow: 0px 1px 3px 1px rgba(0, 0, 0, 0.15);\n",
              "      filter: drop-shadow(0px 1px 2px rgba(0, 0, 0, 0.3));\n",
              "      fill: #FFFFFF;\n",
              "    }\n",
              "  </style>\n",
              "\n",
              "      <script>\n",
              "        const buttonEl =\n",
              "          document.querySelector('#df-61e0442f-6bd1-48eb-aeff-a92e48939d1b button.colab-df-convert');\n",
              "        buttonEl.style.display =\n",
              "          google.colab.kernel.accessAllowed ? 'block' : 'none';\n",
              "\n",
              "        async function convertToInteractive(key) {\n",
              "          const element = document.querySelector('#df-61e0442f-6bd1-48eb-aeff-a92e48939d1b');\n",
              "          const dataTable =\n",
              "            await google.colab.kernel.invokeFunction('convertToInteractive',\n",
              "                                                     [key], {});\n",
              "          if (!dataTable) return;\n",
              "\n",
              "          const docLinkHtml = 'Like what you see? Visit the ' +\n",
              "            '<a target=\"_blank\" href=https://colab.research.google.com/notebooks/data_table.ipynb>data table notebook</a>'\n",
              "            + ' to learn more about interactive tables.';\n",
              "          element.innerHTML = '';\n",
              "          dataTable['output_type'] = 'display_data';\n",
              "          await google.colab.output.renderOutput(dataTable, element);\n",
              "          const docLink = document.createElement('div');\n",
              "          docLink.innerHTML = docLinkHtml;\n",
              "          element.appendChild(docLink);\n",
              "        }\n",
              "      </script>\n",
              "    </div>\n",
              "  </div>\n",
              "  "
            ]
          },
          "metadata": {},
          "execution_count": 68
        }
      ]
    },
    {
      "cell_type": "code",
      "source": [
        "ndf1.columns"
      ],
      "metadata": {
        "id": "9N2jipcu2kbY",
        "colab": {
          "base_uri": "https://localhost:8080/"
        },
        "outputId": "2d7697c4-1126-4db4-f54f-4f4e1cf8d186"
      },
      "execution_count": 69,
      "outputs": [
        {
          "output_type": "execute_result",
          "data": {
            "text/plain": [
              "Index(['CustomerKey', 'Customer ID', 'Customer', 'City', 'State-Province',\n",
              "       'Country-Region', 'Postal Code', 'SalesOrderLineKey', 'ResellerKey',\n",
              "       'ProductKey', 'OrderDateKey', 'DueDateKey', 'ShipDateKey',\n",
              "       'SalesTerritoryKey', 'Order Quantity', 'Unit Price', 'Product Cost',\n",
              "       'Gross Sales ', 'Total Cost', 'Net Sales', 'yy'],\n",
              "      dtype='object')"
            ]
          },
          "metadata": {},
          "execution_count": 69
        }
      ]
    },
    {
      "cell_type": "code",
      "source": [
        "ndf1[\"Net Sales\"].min()"
      ],
      "metadata": {
        "id": "2odir1sb_Yu6",
        "colab": {
          "base_uri": "https://localhost:8080/"
        },
        "outputId": "e44e819c-ef88-4da1-f3b8-c3162f817d1c"
      },
      "execution_count": 70,
      "outputs": [
        {
          "output_type": "execute_result",
          "data": {
            "text/plain": [
              "1.4335"
            ]
          },
          "metadata": {},
          "execution_count": 70
        }
      ]
    },
    {
      "cell_type": "code",
      "source": [
        "ndf1[\"Net Sales\"].max()"
      ],
      "metadata": {
        "id": "7-i9pUP0_09h",
        "colab": {
          "base_uri": "https://localhost:8080/"
        },
        "outputId": "3376de6f-a6f2-48c8-9475-f44aa2e767ab"
      },
      "execution_count": 71,
      "outputs": [
        {
          "output_type": "execute_result",
          "data": {
            "text/plain": [
              "1487.8355999999999"
            ]
          },
          "metadata": {},
          "execution_count": 71
        }
      ]
    },
    {
      "cell_type": "code",
      "source": [
        "ndf1.loc[ndf1['Net Sales'] >= 1487]"
      ],
      "metadata": {
        "id": "u3w-uTTO_3TX",
        "colab": {
          "base_uri": "https://localhost:8080/",
          "height": 661
        },
        "outputId": "557c2590-6104-4456-8567-226a2fbbb2fb"
      },
      "execution_count": 72,
      "outputs": [
        {
          "output_type": "execute_result",
          "data": {
            "text/plain": [
              "       CustomerKey Customer ID           Customer         City  \\\n",
              "0            11000  AW00011000           Jon Yang  Rockhampton   \n",
              "19           11002  AW00011002       Ruben Torres       Hobart   \n",
              "23           11003  AW00011003        Christy Zhu   North Ryde   \n",
              "32           11004  AW00011004  Elizabeth Johnson   Wollongong   \n",
              "44           11006  AW00011006      Janet Alvarez   Matraville   \n",
              "...            ...         ...                ...          ...   \n",
              "60233        29410  AW00029410        Lucas Price          Hof   \n",
              "60321        29448  AW00029448       Lindsey Yuan      Hamburg   \n",
              "60322        29449  AW00029449         Laura Chen   Salzgitter   \n",
              "60381        29475  AW00029475         Jared Ward      Hamburg   \n",
              "60382        29476  AW00029476  Elizabeth Bradley      Hamburg   \n",
              "\n",
              "        State-Province Country-Region Postal Code  SalesOrderLineKey  \\\n",
              "0           Queensland      Australia        4700           43793001   \n",
              "19            Tasmania      Australia        7001           43736001   \n",
              "23     New South Wales      Australia        2113           43701001   \n",
              "32     New South Wales      Australia        2500           43810001   \n",
              "44     New South Wales      Australia        2036           43819001   \n",
              "...                ...            ...         ...                ...   \n",
              "60233           Bayern        Germany       95010           44723001   \n",
              "60321           Hessen        Germany       22001           44571001   \n",
              "60322           Hessen        Germany       38231           44646001   \n",
              "60381          Hamburg        Germany       20354           45024001   \n",
              "60382          Hamburg        Germany       20354           45199001   \n",
              "\n",
              "       ResellerKey  ProductKey  ...  DueDateKey  ShipDateKey  \\\n",
              "0               -1         344  ...    20170722   20170719.0   \n",
              "19              -1         346  ...    20170715   20170712.0   \n",
              "23              -1         346  ...    20170711   20170708.0   \n",
              "32              -1         345  ...    20170724   20170721.0   \n",
              "44              -1         346  ...    20170725   20170722.0   \n",
              "...            ...         ...  ...         ...          ...   \n",
              "60233           -1         345  ...    20171107   20171104.0   \n",
              "60321           -1         347  ...    20171011   20171008.0   \n",
              "60322           -1         344  ...    20171023   20171020.0   \n",
              "60381           -1         344  ...    20171209   20171206.0   \n",
              "60382           -1         346  ...    20171231   20171228.0   \n",
              "\n",
              "       SalesTerritoryKey  Order Quantity  Unit Price  Product Cost  \\\n",
              "0                      9               1     3399.99     1912.1544   \n",
              "19                     9               1     3399.99     1912.1544   \n",
              "23                     9               1     3399.99     1912.1544   \n",
              "32                     9               1     3399.99     1912.1544   \n",
              "44                     9               1     3399.99     1912.1544   \n",
              "...                  ...             ...         ...           ...   \n",
              "60233                  8               1     3399.99     1912.1544   \n",
              "60321                  8               1     3399.99     1912.1544   \n",
              "60322                  8               1     3399.99     1912.1544   \n",
              "60381                  8               1     3399.99     1912.1544   \n",
              "60382                  8               1     3399.99     1912.1544   \n",
              "\n",
              "       Gross Sales   Total Cost  Net Sales    yy  \n",
              "0           3399.99   1912.1544  1487.8356  2017  \n",
              "19          3399.99   1912.1544  1487.8356  2017  \n",
              "23          3399.99   1912.1544  1487.8356  2017  \n",
              "32          3399.99   1912.1544  1487.8356  2017  \n",
              "44          3399.99   1912.1544  1487.8356  2017  \n",
              "...             ...         ...        ...   ...  \n",
              "60233       3399.99   1912.1544  1487.8356  2017  \n",
              "60321       3399.99   1912.1544  1487.8356  2017  \n",
              "60322       3399.99   1912.1544  1487.8356  2017  \n",
              "60381       3399.99   1912.1544  1487.8356  2017  \n",
              "60382       3399.99   1912.1544  1487.8356  2017  \n",
              "\n",
              "[185 rows x 21 columns]"
            ],
            "text/html": [
              "\n",
              "  <div id=\"df-52ce44a2-6565-46cb-b65c-4ef152d2fdc1\">\n",
              "    <div class=\"colab-df-container\">\n",
              "      <div>\n",
              "<style scoped>\n",
              "    .dataframe tbody tr th:only-of-type {\n",
              "        vertical-align: middle;\n",
              "    }\n",
              "\n",
              "    .dataframe tbody tr th {\n",
              "        vertical-align: top;\n",
              "    }\n",
              "\n",
              "    .dataframe thead th {\n",
              "        text-align: right;\n",
              "    }\n",
              "</style>\n",
              "<table border=\"1\" class=\"dataframe\">\n",
              "  <thead>\n",
              "    <tr style=\"text-align: right;\">\n",
              "      <th></th>\n",
              "      <th>CustomerKey</th>\n",
              "      <th>Customer ID</th>\n",
              "      <th>Customer</th>\n",
              "      <th>City</th>\n",
              "      <th>State-Province</th>\n",
              "      <th>Country-Region</th>\n",
              "      <th>Postal Code</th>\n",
              "      <th>SalesOrderLineKey</th>\n",
              "      <th>ResellerKey</th>\n",
              "      <th>ProductKey</th>\n",
              "      <th>...</th>\n",
              "      <th>DueDateKey</th>\n",
              "      <th>ShipDateKey</th>\n",
              "      <th>SalesTerritoryKey</th>\n",
              "      <th>Order Quantity</th>\n",
              "      <th>Unit Price</th>\n",
              "      <th>Product Cost</th>\n",
              "      <th>Gross Sales</th>\n",
              "      <th>Total Cost</th>\n",
              "      <th>Net Sales</th>\n",
              "      <th>yy</th>\n",
              "    </tr>\n",
              "  </thead>\n",
              "  <tbody>\n",
              "    <tr>\n",
              "      <th>0</th>\n",
              "      <td>11000</td>\n",
              "      <td>AW00011000</td>\n",
              "      <td>Jon Yang</td>\n",
              "      <td>Rockhampton</td>\n",
              "      <td>Queensland</td>\n",
              "      <td>Australia</td>\n",
              "      <td>4700</td>\n",
              "      <td>43793001</td>\n",
              "      <td>-1</td>\n",
              "      <td>344</td>\n",
              "      <td>...</td>\n",
              "      <td>20170722</td>\n",
              "      <td>20170719.0</td>\n",
              "      <td>9</td>\n",
              "      <td>1</td>\n",
              "      <td>3399.99</td>\n",
              "      <td>1912.1544</td>\n",
              "      <td>3399.99</td>\n",
              "      <td>1912.1544</td>\n",
              "      <td>1487.8356</td>\n",
              "      <td>2017</td>\n",
              "    </tr>\n",
              "    <tr>\n",
              "      <th>19</th>\n",
              "      <td>11002</td>\n",
              "      <td>AW00011002</td>\n",
              "      <td>Ruben Torres</td>\n",
              "      <td>Hobart</td>\n",
              "      <td>Tasmania</td>\n",
              "      <td>Australia</td>\n",
              "      <td>7001</td>\n",
              "      <td>43736001</td>\n",
              "      <td>-1</td>\n",
              "      <td>346</td>\n",
              "      <td>...</td>\n",
              "      <td>20170715</td>\n",
              "      <td>20170712.0</td>\n",
              "      <td>9</td>\n",
              "      <td>1</td>\n",
              "      <td>3399.99</td>\n",
              "      <td>1912.1544</td>\n",
              "      <td>3399.99</td>\n",
              "      <td>1912.1544</td>\n",
              "      <td>1487.8356</td>\n",
              "      <td>2017</td>\n",
              "    </tr>\n",
              "    <tr>\n",
              "      <th>23</th>\n",
              "      <td>11003</td>\n",
              "      <td>AW00011003</td>\n",
              "      <td>Christy Zhu</td>\n",
              "      <td>North Ryde</td>\n",
              "      <td>New South Wales</td>\n",
              "      <td>Australia</td>\n",
              "      <td>2113</td>\n",
              "      <td>43701001</td>\n",
              "      <td>-1</td>\n",
              "      <td>346</td>\n",
              "      <td>...</td>\n",
              "      <td>20170711</td>\n",
              "      <td>20170708.0</td>\n",
              "      <td>9</td>\n",
              "      <td>1</td>\n",
              "      <td>3399.99</td>\n",
              "      <td>1912.1544</td>\n",
              "      <td>3399.99</td>\n",
              "      <td>1912.1544</td>\n",
              "      <td>1487.8356</td>\n",
              "      <td>2017</td>\n",
              "    </tr>\n",
              "    <tr>\n",
              "      <th>32</th>\n",
              "      <td>11004</td>\n",
              "      <td>AW00011004</td>\n",
              "      <td>Elizabeth Johnson</td>\n",
              "      <td>Wollongong</td>\n",
              "      <td>New South Wales</td>\n",
              "      <td>Australia</td>\n",
              "      <td>2500</td>\n",
              "      <td>43810001</td>\n",
              "      <td>-1</td>\n",
              "      <td>345</td>\n",
              "      <td>...</td>\n",
              "      <td>20170724</td>\n",
              "      <td>20170721.0</td>\n",
              "      <td>9</td>\n",
              "      <td>1</td>\n",
              "      <td>3399.99</td>\n",
              "      <td>1912.1544</td>\n",
              "      <td>3399.99</td>\n",
              "      <td>1912.1544</td>\n",
              "      <td>1487.8356</td>\n",
              "      <td>2017</td>\n",
              "    </tr>\n",
              "    <tr>\n",
              "      <th>44</th>\n",
              "      <td>11006</td>\n",
              "      <td>AW00011006</td>\n",
              "      <td>Janet Alvarez</td>\n",
              "      <td>Matraville</td>\n",
              "      <td>New South Wales</td>\n",
              "      <td>Australia</td>\n",
              "      <td>2036</td>\n",
              "      <td>43819001</td>\n",
              "      <td>-1</td>\n",
              "      <td>346</td>\n",
              "      <td>...</td>\n",
              "      <td>20170725</td>\n",
              "      <td>20170722.0</td>\n",
              "      <td>9</td>\n",
              "      <td>1</td>\n",
              "      <td>3399.99</td>\n",
              "      <td>1912.1544</td>\n",
              "      <td>3399.99</td>\n",
              "      <td>1912.1544</td>\n",
              "      <td>1487.8356</td>\n",
              "      <td>2017</td>\n",
              "    </tr>\n",
              "    <tr>\n",
              "      <th>...</th>\n",
              "      <td>...</td>\n",
              "      <td>...</td>\n",
              "      <td>...</td>\n",
              "      <td>...</td>\n",
              "      <td>...</td>\n",
              "      <td>...</td>\n",
              "      <td>...</td>\n",
              "      <td>...</td>\n",
              "      <td>...</td>\n",
              "      <td>...</td>\n",
              "      <td>...</td>\n",
              "      <td>...</td>\n",
              "      <td>...</td>\n",
              "      <td>...</td>\n",
              "      <td>...</td>\n",
              "      <td>...</td>\n",
              "      <td>...</td>\n",
              "      <td>...</td>\n",
              "      <td>...</td>\n",
              "      <td>...</td>\n",
              "      <td>...</td>\n",
              "    </tr>\n",
              "    <tr>\n",
              "      <th>60233</th>\n",
              "      <td>29410</td>\n",
              "      <td>AW00029410</td>\n",
              "      <td>Lucas Price</td>\n",
              "      <td>Hof</td>\n",
              "      <td>Bayern</td>\n",
              "      <td>Germany</td>\n",
              "      <td>95010</td>\n",
              "      <td>44723001</td>\n",
              "      <td>-1</td>\n",
              "      <td>345</td>\n",
              "      <td>...</td>\n",
              "      <td>20171107</td>\n",
              "      <td>20171104.0</td>\n",
              "      <td>8</td>\n",
              "      <td>1</td>\n",
              "      <td>3399.99</td>\n",
              "      <td>1912.1544</td>\n",
              "      <td>3399.99</td>\n",
              "      <td>1912.1544</td>\n",
              "      <td>1487.8356</td>\n",
              "      <td>2017</td>\n",
              "    </tr>\n",
              "    <tr>\n",
              "      <th>60321</th>\n",
              "      <td>29448</td>\n",
              "      <td>AW00029448</td>\n",
              "      <td>Lindsey Yuan</td>\n",
              "      <td>Hamburg</td>\n",
              "      <td>Hessen</td>\n",
              "      <td>Germany</td>\n",
              "      <td>22001</td>\n",
              "      <td>44571001</td>\n",
              "      <td>-1</td>\n",
              "      <td>347</td>\n",
              "      <td>...</td>\n",
              "      <td>20171011</td>\n",
              "      <td>20171008.0</td>\n",
              "      <td>8</td>\n",
              "      <td>1</td>\n",
              "      <td>3399.99</td>\n",
              "      <td>1912.1544</td>\n",
              "      <td>3399.99</td>\n",
              "      <td>1912.1544</td>\n",
              "      <td>1487.8356</td>\n",
              "      <td>2017</td>\n",
              "    </tr>\n",
              "    <tr>\n",
              "      <th>60322</th>\n",
              "      <td>29449</td>\n",
              "      <td>AW00029449</td>\n",
              "      <td>Laura Chen</td>\n",
              "      <td>Salzgitter</td>\n",
              "      <td>Hessen</td>\n",
              "      <td>Germany</td>\n",
              "      <td>38231</td>\n",
              "      <td>44646001</td>\n",
              "      <td>-1</td>\n",
              "      <td>344</td>\n",
              "      <td>...</td>\n",
              "      <td>20171023</td>\n",
              "      <td>20171020.0</td>\n",
              "      <td>8</td>\n",
              "      <td>1</td>\n",
              "      <td>3399.99</td>\n",
              "      <td>1912.1544</td>\n",
              "      <td>3399.99</td>\n",
              "      <td>1912.1544</td>\n",
              "      <td>1487.8356</td>\n",
              "      <td>2017</td>\n",
              "    </tr>\n",
              "    <tr>\n",
              "      <th>60381</th>\n",
              "      <td>29475</td>\n",
              "      <td>AW00029475</td>\n",
              "      <td>Jared Ward</td>\n",
              "      <td>Hamburg</td>\n",
              "      <td>Hamburg</td>\n",
              "      <td>Germany</td>\n",
              "      <td>20354</td>\n",
              "      <td>45024001</td>\n",
              "      <td>-1</td>\n",
              "      <td>344</td>\n",
              "      <td>...</td>\n",
              "      <td>20171209</td>\n",
              "      <td>20171206.0</td>\n",
              "      <td>8</td>\n",
              "      <td>1</td>\n",
              "      <td>3399.99</td>\n",
              "      <td>1912.1544</td>\n",
              "      <td>3399.99</td>\n",
              "      <td>1912.1544</td>\n",
              "      <td>1487.8356</td>\n",
              "      <td>2017</td>\n",
              "    </tr>\n",
              "    <tr>\n",
              "      <th>60382</th>\n",
              "      <td>29476</td>\n",
              "      <td>AW00029476</td>\n",
              "      <td>Elizabeth Bradley</td>\n",
              "      <td>Hamburg</td>\n",
              "      <td>Hamburg</td>\n",
              "      <td>Germany</td>\n",
              "      <td>20354</td>\n",
              "      <td>45199001</td>\n",
              "      <td>-1</td>\n",
              "      <td>346</td>\n",
              "      <td>...</td>\n",
              "      <td>20171231</td>\n",
              "      <td>20171228.0</td>\n",
              "      <td>8</td>\n",
              "      <td>1</td>\n",
              "      <td>3399.99</td>\n",
              "      <td>1912.1544</td>\n",
              "      <td>3399.99</td>\n",
              "      <td>1912.1544</td>\n",
              "      <td>1487.8356</td>\n",
              "      <td>2017</td>\n",
              "    </tr>\n",
              "  </tbody>\n",
              "</table>\n",
              "<p>185 rows × 21 columns</p>\n",
              "</div>\n",
              "      <button class=\"colab-df-convert\" onclick=\"convertToInteractive('df-52ce44a2-6565-46cb-b65c-4ef152d2fdc1')\"\n",
              "              title=\"Convert this dataframe to an interactive table.\"\n",
              "              style=\"display:none;\">\n",
              "        \n",
              "  <svg xmlns=\"http://www.w3.org/2000/svg\" height=\"24px\"viewBox=\"0 0 24 24\"\n",
              "       width=\"24px\">\n",
              "    <path d=\"M0 0h24v24H0V0z\" fill=\"none\"/>\n",
              "    <path d=\"M18.56 5.44l.94 2.06.94-2.06 2.06-.94-2.06-.94-.94-2.06-.94 2.06-2.06.94zm-11 1L8.5 8.5l.94-2.06 2.06-.94-2.06-.94L8.5 2.5l-.94 2.06-2.06.94zm10 10l.94 2.06.94-2.06 2.06-.94-2.06-.94-.94-2.06-.94 2.06-2.06.94z\"/><path d=\"M17.41 7.96l-1.37-1.37c-.4-.4-.92-.59-1.43-.59-.52 0-1.04.2-1.43.59L10.3 9.45l-7.72 7.72c-.78.78-.78 2.05 0 2.83L4 21.41c.39.39.9.59 1.41.59.51 0 1.02-.2 1.41-.59l7.78-7.78 2.81-2.81c.8-.78.8-2.07 0-2.86zM5.41 20L4 18.59l7.72-7.72 1.47 1.35L5.41 20z\"/>\n",
              "  </svg>\n",
              "      </button>\n",
              "      \n",
              "  <style>\n",
              "    .colab-df-container {\n",
              "      display:flex;\n",
              "      flex-wrap:wrap;\n",
              "      gap: 12px;\n",
              "    }\n",
              "\n",
              "    .colab-df-convert {\n",
              "      background-color: #E8F0FE;\n",
              "      border: none;\n",
              "      border-radius: 50%;\n",
              "      cursor: pointer;\n",
              "      display: none;\n",
              "      fill: #1967D2;\n",
              "      height: 32px;\n",
              "      padding: 0 0 0 0;\n",
              "      width: 32px;\n",
              "    }\n",
              "\n",
              "    .colab-df-convert:hover {\n",
              "      background-color: #E2EBFA;\n",
              "      box-shadow: 0px 1px 2px rgba(60, 64, 67, 0.3), 0px 1px 3px 1px rgba(60, 64, 67, 0.15);\n",
              "      fill: #174EA6;\n",
              "    }\n",
              "\n",
              "    [theme=dark] .colab-df-convert {\n",
              "      background-color: #3B4455;\n",
              "      fill: #D2E3FC;\n",
              "    }\n",
              "\n",
              "    [theme=dark] .colab-df-convert:hover {\n",
              "      background-color: #434B5C;\n",
              "      box-shadow: 0px 1px 3px 1px rgba(0, 0, 0, 0.15);\n",
              "      filter: drop-shadow(0px 1px 2px rgba(0, 0, 0, 0.3));\n",
              "      fill: #FFFFFF;\n",
              "    }\n",
              "  </style>\n",
              "\n",
              "      <script>\n",
              "        const buttonEl =\n",
              "          document.querySelector('#df-52ce44a2-6565-46cb-b65c-4ef152d2fdc1 button.colab-df-convert');\n",
              "        buttonEl.style.display =\n",
              "          google.colab.kernel.accessAllowed ? 'block' : 'none';\n",
              "\n",
              "        async function convertToInteractive(key) {\n",
              "          const element = document.querySelector('#df-52ce44a2-6565-46cb-b65c-4ef152d2fdc1');\n",
              "          const dataTable =\n",
              "            await google.colab.kernel.invokeFunction('convertToInteractive',\n",
              "                                                     [key], {});\n",
              "          if (!dataTable) return;\n",
              "\n",
              "          const docLinkHtml = 'Like what you see? Visit the ' +\n",
              "            '<a target=\"_blank\" href=https://colab.research.google.com/notebooks/data_table.ipynb>data table notebook</a>'\n",
              "            + ' to learn more about interactive tables.';\n",
              "          element.innerHTML = '';\n",
              "          dataTable['output_type'] = 'display_data';\n",
              "          await google.colab.output.renderOutput(dataTable, element);\n",
              "          const docLink = document.createElement('div');\n",
              "          docLink.innerHTML = docLinkHtml;\n",
              "          element.appendChild(docLink);\n",
              "        }\n",
              "      </script>\n",
              "    </div>\n",
              "  </div>\n",
              "  "
            ]
          },
          "metadata": {},
          "execution_count": 72
        }
      ]
    },
    {
      "cell_type": "markdown",
      "source": [
        "## `Deliverable 2`"
      ],
      "metadata": {
        "id": "P3F0Fe3-EPnK"
      }
    },
    {
      "cell_type": "code",
      "source": [
        "# assumption: since we want to predict the sales so, I converted order date key, to the date format which is YYYY-MM-DD and treated sales dataset as time-series dataset for predicting the net sales\n",
        "order_date_key = ndf1[\"OrderDateKey\"]\n",
        "order_date_key"
      ],
      "metadata": {
        "id": "Q8v5F6hiFk_R",
        "colab": {
          "base_uri": "https://localhost:8080/"
        },
        "outputId": "83a8d300-d661-4034-f732-8a00a28b0027"
      },
      "execution_count": 73,
      "outputs": [
        {
          "output_type": "execute_result",
          "data": {
            "text/plain": [
              "0        20170712\n",
              "1        20190621\n",
              "2        20190621\n",
              "3        20191004\n",
              "4        20191004\n",
              "           ...   \n",
              "60393    20191218\n",
              "60394    20191218\n",
              "60395    20180113\n",
              "60396    20190219\n",
              "60397    20190210\n",
              "Name: OrderDateKey, Length: 60398, dtype: int64"
            ]
          },
          "metadata": {},
          "execution_count": 73
        }
      ]
    },
    {
      "cell_type": "code",
      "source": [
        "import datetime\n",
        "\n",
        "date_obj = []\n",
        "# create a datetime object from the string\n",
        "for value in order_date_key:\n",
        "  obj = datetime.datetime.strptime(str(value), \"%Y%m%d\")\n",
        "  formatted_date = obj.strftime(\"%Y-%m-%d\")\n",
        "  date_obj.append(formatted_date)"
      ],
      "metadata": {
        "id": "qUnDujexAN-g"
      },
      "execution_count": 74,
      "outputs": []
    },
    {
      "cell_type": "code",
      "source": [
        "date_obj[0]"
      ],
      "metadata": {
        "id": "ozfsUt6-Ffmo",
        "colab": {
          "base_uri": "https://localhost:8080/",
          "height": 35
        },
        "outputId": "3319047f-eb9f-4b1e-de83-0e0d1bcdb64b"
      },
      "execution_count": 75,
      "outputs": [
        {
          "output_type": "execute_result",
          "data": {
            "text/plain": [
              "'2017-07-12'"
            ],
            "application/vnd.google.colaboratory.intrinsic+json": {
              "type": "string"
            }
          },
          "metadata": {},
          "execution_count": 75
        }
      ]
    },
    {
      "cell_type": "code",
      "source": [
        "ndf1[\"Order Date\"] = date_obj"
      ],
      "metadata": {
        "id": "AeBfBHtjH-0K"
      },
      "execution_count": 76,
      "outputs": []
    },
    {
      "cell_type": "code",
      "source": [
        "ndf1['Customer ID'] = ndf1['Customer ID'].astype(str)"
      ],
      "metadata": {
        "id": "Gltt6O3ua78B"
      },
      "execution_count": 77,
      "outputs": []
    },
    {
      "cell_type": "markdown",
      "source": [
        "##### `Conversion of the object datatype to the string for bunch of columns`"
      ],
      "metadata": {
        "id": "oLSAyUD9ezh7"
      }
    },
    {
      "cell_type": "code",
      "source": [
        "ndf1['Customer'] = ndf1['Customer'].astype('str')\n",
        "ndf1['City'] = ndf1['City'].astype('str')\n",
        "ndf1['State-Province'] = ndf1['State-Province'].astype('str')\n",
        "ndf1['Country-Region'] = ndf1['Country-Region'].astype('str')\n",
        "ndf1[\"Order Date\"] = ndf1[\"Order Date\"].astype('str')"
      ],
      "metadata": {
        "id": "-s1dWqbZa33Y"
      },
      "execution_count": 78,
      "outputs": []
    },
    {
      "cell_type": "code",
      "source": [
        "backup_df = ndf1"
      ],
      "metadata": {
        "id": "p_x-WjfebH2y"
      },
      "execution_count": 79,
      "outputs": []
    },
    {
      "cell_type": "code",
      "source": [
        "sales_pie = backup_df.groupby(\"Country-Region\")[\"Gross Sales \"].sum()"
      ],
      "metadata": {
        "id": "ARyOSQEhXdmi"
      },
      "execution_count": 80,
      "outputs": []
    },
    {
      "cell_type": "code",
      "source": [
        "plt.figure(figsize=(14,10))\n",
        "\n",
        "plt.pie(sales_pie,autopct=\"%1.0f%%\",labels=[\"Australia\",\"Canada\",\"France\",\"Germany\",\"United Kingdom\", \"United States\"],shadow=True,explode=[0.0,0.1,0.0, 0.0, 0.0, 0.0],colors=['r', '#9FE2BF', '#6495ED', '#FFBF00', '#DE3163', '#CCCCFF'])\n",
        "plt.title(\"Sales for each country\")\n",
        "plt.show()"
      ],
      "metadata": {
        "colab": {
          "base_uri": "https://localhost:8080/",
          "height": 591
        },
        "id": "bA6D9Br7Xdwa",
        "outputId": "66acee18-e143-48c5-b71c-3aa395d6aedc"
      },
      "execution_count": 81,
      "outputs": [
        {
          "output_type": "display_data",
          "data": {
            "text/plain": [
              "<Figure size 1008x720 with 1 Axes>"
            ],
            "image/png": "[encoded data removed]"
          },
          "metadata": {}
        }
      ]
    },
    {
      "cell_type": "code",
      "source": [
        "ndf1.head()"
      ],
      "metadata": {
        "id": "OhaBb-hMbOpI",
        "colab": {
          "base_uri": "https://localhost:8080/",
          "height": 404
        },
        "outputId": "be4798e9-fe5e-4ed5-f802-5124dbc393aa"
      },
      "execution_count": 82,
      "outputs": [
        {
          "output_type": "execute_result",
          "data": {
            "text/plain": [
              "   CustomerKey Customer ID  Customer         City State-Province  \\\n",
              "0        11000  AW00011000  Jon Yang  Rockhampton     Queensland   \n",
              "1        11000  AW00011000  Jon Yang  Rockhampton     Queensland   \n",
              "2        11000  AW00011000  Jon Yang  Rockhampton     Queensland   \n",
              "3        11000  AW00011000  Jon Yang  Rockhampton     Queensland   \n",
              "4        11000  AW00011000  Jon Yang  Rockhampton     Queensland   \n",
              "\n",
              "  Country-Region Postal Code  SalesOrderLineKey  ResellerKey  ProductKey  ...  \\\n",
              "0      Australia        4700           43793001           -1         344  ...   \n",
              "1      Australia        4700           51522001           -1         353  ...   \n",
              "2      Australia        4700           51522002           -1         485  ...   \n",
              "3      Australia        4700           57418001           -1         573  ...   \n",
              "4      Australia        4700           57418002           -1         541  ...   \n",
              "\n",
              "   ShipDateKey  SalesTerritoryKey  Order Quantity  Unit Price  Product Cost  \\\n",
              "0   20170719.0                  9               1     3399.99     1912.1544   \n",
              "1   20190628.0                  9               1     2319.99     1265.6195   \n",
              "2   20190628.0                  9               1       21.98        8.2205   \n",
              "3   20191011.0                  9               1     2384.07     1481.9379   \n",
              "4   20191011.0                  9               1       28.99       10.8423   \n",
              "\n",
              "   Gross Sales   Total Cost  Net Sales    yy  Order Date  \n",
              "0       3399.99   1912.1544  1487.8356  2017  2017-07-12  \n",
              "1       2319.99   1265.6195  1054.3705  2019  2019-06-21  \n",
              "2         21.98      8.2205    13.7595  2019  2019-06-21  \n",
              "3       2384.07   1481.9379   902.1321  2019  2019-10-04  \n",
              "4         28.99     10.8423    18.1477  2019  2019-10-04  \n",
              "\n",
              "[5 rows x 22 columns]"
            ],
            "text/html": [
              "\n",
              "  <div id=\"df-55d3dedf-eeef-4316-98dc-842283bd0aeb\">\n",
              "    <div class=\"colab-df-container\">\n",
              "      <div>\n",
              "<style scoped>\n",
              "    .dataframe tbody tr th:only-of-type {\n",
              "        vertical-align: middle;\n",
              "    }\n",
              "\n",
              "    .dataframe tbody tr th {\n",
              "        vertical-align: top;\n",
              "    }\n",
              "\n",
              "    .dataframe thead th {\n",
              "        text-align: right;\n",
              "    }\n",
              "</style>\n",
              "<table border=\"1\" class=\"dataframe\">\n",
              "  <thead>\n",
              "    <tr style=\"text-align: right;\">\n",
              "      <th></th>\n",
              "      <th>CustomerKey</th>\n",
              "      <th>Customer ID</th>\n",
              "      <th>Customer</th>\n",
              "      <th>City</th>\n",
              "      <th>State-Province</th>\n",
              "      <th>Country-Region</th>\n",
              "      <th>Postal Code</th>\n",
              "      <th>SalesOrderLineKey</th>\n",
              "      <th>ResellerKey</th>\n",
              "      <th>ProductKey</th>\n",
              "      <th>...</th>\n",
              "      <th>ShipDateKey</th>\n",
              "      <th>SalesTerritoryKey</th>\n",
              "      <th>Order Quantity</th>\n",
              "      <th>Unit Price</th>\n",
              "      <th>Product Cost</th>\n",
              "      <th>Gross Sales</th>\n",
              "      <th>Total Cost</th>\n",
              "      <th>Net Sales</th>\n",
              "      <th>yy</th>\n",
              "      <th>Order Date</th>\n",
              "    </tr>\n",
              "  </thead>\n",
              "  <tbody>\n",
              "    <tr>\n",
              "      <th>0</th>\n",
              "      <td>11000</td>\n",
              "      <td>AW00011000</td>\n",
              "      <td>Jon Yang</td>\n",
              "      <td>Rockhampton</td>\n",
              "      <td>Queensland</td>\n",
              "      <td>Australia</td>\n",
              "      <td>4700</td>\n",
              "      <td>43793001</td>\n",
              "      <td>-1</td>\n",
              "      <td>344</td>\n",
              "      <td>...</td>\n",
              "      <td>20170719.0</td>\n",
              "      <td>9</td>\n",
              "      <td>1</td>\n",
              "      <td>3399.99</td>\n",
              "      <td>1912.1544</td>\n",
              "      <td>3399.99</td>\n",
              "      <td>1912.1544</td>\n",
              "      <td>1487.8356</td>\n",
              "      <td>2017</td>\n",
              "      <td>2017-07-12</td>\n",
              "    </tr>\n",
              "    <tr>\n",
              "      <th>1</th>\n",
              "      <td>11000</td>\n",
              "      <td>AW00011000</td>\n",
              "      <td>Jon Yang</td>\n",
              "      <td>Rockhampton</td>\n",
              "      <td>Queensland</td>\n",
              "      <td>Australia</td>\n",
              "      <td>4700</td>\n",
              "      <td>51522001</td>\n",
              "      <td>-1</td>\n",
              "      <td>353</td>\n",
              "      <td>...</td>\n",
              "      <td>20190628.0</td>\n",
              "      <td>9</td>\n",
              "      <td>1</td>\n",
              "      <td>2319.99</td>\n",
              "      <td>1265.6195</td>\n",
              "      <td>2319.99</td>\n",
              "      <td>1265.6195</td>\n",
              "      <td>1054.3705</td>\n",
              "      <td>2019</td>\n",
              "      <td>2019-06-21</td>\n",
              "    </tr>\n",
              "    <tr>\n",
              "      <th>2</th>\n",
              "      <td>11000</td>\n",
              "      <td>AW00011000</td>\n",
              "      <td>Jon Yang</td>\n",
              "      <td>Rockhampton</td>\n",
              "      <td>Queensland</td>\n",
              "      <td>Australia</td>\n",
              "      <td>4700</td>\n",
              "      <td>51522002</td>\n",
              "      <td>-1</td>\n",
              "      <td>485</td>\n",
              "      <td>...</td>\n",
              "      <td>20190628.0</td>\n",
              "      <td>9</td>\n",
              "      <td>1</td>\n",
              "      <td>21.98</td>\n",
              "      <td>8.2205</td>\n",
              "      <td>21.98</td>\n",
              "      <td>8.2205</td>\n",
              "      <td>13.7595</td>\n",
              "      <td>2019</td>\n",
              "      <td>2019-06-21</td>\n",
              "    </tr>\n",
              "    <tr>\n",
              "      <th>3</th>\n",
              "      <td>11000</td>\n",
              "      <td>AW00011000</td>\n",
              "      <td>Jon Yang</td>\n",
              "      <td>Rockhampton</td>\n",
              "      <td>Queensland</td>\n",
              "      <td>Australia</td>\n",
              "      <td>4700</td>\n",
              "      <td>57418001</td>\n",
              "      <td>-1</td>\n",
              "      <td>573</td>\n",
              "      <td>...</td>\n",
              "      <td>20191011.0</td>\n",
              "      <td>9</td>\n",
              "      <td>1</td>\n",
              "      <td>2384.07</td>\n",
              "      <td>1481.9379</td>\n",
              "      <td>2384.07</td>\n",
              "      <td>1481.9379</td>\n",
              "      <td>902.1321</td>\n",
              "      <td>2019</td>\n",
              "      <td>2019-10-04</td>\n",
              "    </tr>\n",
              "    <tr>\n",
              "      <th>4</th>\n",
              "      <td>11000</td>\n",
              "      <td>AW00011000</td>\n",
              "      <td>Jon Yang</td>\n",
              "      <td>Rockhampton</td>\n",
              "      <td>Queensland</td>\n",
              "      <td>Australia</td>\n",
              "      <td>4700</td>\n",
              "      <td>57418002</td>\n",
              "      <td>-1</td>\n",
              "      <td>541</td>\n",
              "      <td>...</td>\n",
              "      <td>20191011.0</td>\n",
              "      <td>9</td>\n",
              "      <td>1</td>\n",
              "      <td>28.99</td>\n",
              "      <td>10.8423</td>\n",
              "      <td>28.99</td>\n",
              "      <td>10.8423</td>\n",
              "      <td>18.1477</td>\n",
              "      <td>2019</td>\n",
              "      <td>2019-10-04</td>\n",
              "    </tr>\n",
              "  </tbody>\n",
              "</table>\n",
              "<p>5 rows × 22 columns</p>\n",
              "</div>\n",
              "      <button class=\"colab-df-convert\" onclick=\"convertToInteractive('df-55d3dedf-eeef-4316-98dc-842283bd0aeb')\"\n",
              "              title=\"Convert this dataframe to an interactive table.\"\n",
              "              style=\"display:none;\">\n",
              "        \n",
              "  <svg xmlns=\"http://www.w3.org/2000/svg\" height=\"24px\"viewBox=\"0 0 24 24\"\n",
              "       width=\"24px\">\n",
              "    <path d=\"M0 0h24v24H0V0z\" fill=\"none\"/>\n",
              "    <path d=\"M18.56 5.44l.94 2.06.94-2.06 2.06-.94-2.06-.94-.94-2.06-.94 2.06-2.06.94zm-11 1L8.5 8.5l.94-2.06 2.06-.94-2.06-.94L8.5 2.5l-.94 2.06-2.06.94zm10 10l.94 2.06.94-2.06 2.06-.94-2.06-.94-.94-2.06-.94 2.06-2.06.94z\"/><path d=\"M17.41 7.96l-1.37-1.37c-.4-.4-.92-.59-1.43-.59-.52 0-1.04.2-1.43.59L10.3 9.45l-7.72 7.72c-.78.78-.78 2.05 0 2.83L4 21.41c.39.39.9.59 1.41.59.51 0 1.02-.2 1.41-.59l7.78-7.78 2.81-2.81c.8-.78.8-2.07 0-2.86zM5.41 20L4 18.59l7.72-7.72 1.47 1.35L5.41 20z\"/>\n",
              "  </svg>\n",
              "      </button>\n",
              "      \n",
              "  <style>\n",
              "    .colab-df-container {\n",
              "      display:flex;\n",
              "      flex-wrap:wrap;\n",
              "      gap: 12px;\n",
              "    }\n",
              "\n",
              "    .colab-df-convert {\n",
              "      background-color: #E8F0FE;\n",
              "      border: none;\n",
              "      border-radius: 50%;\n",
              "      cursor: pointer;\n",
              "      display: none;\n",
              "      fill: #1967D2;\n",
              "      height: 32px;\n",
              "      padding: 0 0 0 0;\n",
              "      width: 32px;\n",
              "    }\n",
              "\n",
              "    .colab-df-convert:hover {\n",
              "      background-color: #E2EBFA;\n",
              "      box-shadow: 0px 1px 2px rgba(60, 64, 67, 0.3), 0px 1px 3px 1px rgba(60, 64, 67, 0.15);\n",
              "      fill: #174EA6;\n",
              "    }\n",
              "\n",
              "    [theme=dark] .colab-df-convert {\n",
              "      background-color: #3B4455;\n",
              "      fill: #D2E3FC;\n",
              "    }\n",
              "\n",
              "    [theme=dark] .colab-df-convert:hover {\n",
              "      background-color: #434B5C;\n",
              "      box-shadow: 0px 1px 3px 1px rgba(0, 0, 0, 0.15);\n",
              "      filter: drop-shadow(0px 1px 2px rgba(0, 0, 0, 0.3));\n",
              "      fill: #FFFFFF;\n",
              "    }\n",
              "  </style>\n",
              "\n",
              "      <script>\n",
              "        const buttonEl =\n",
              "          document.querySelector('#df-55d3dedf-eeef-4316-98dc-842283bd0aeb button.colab-df-convert');\n",
              "        buttonEl.style.display =\n",
              "          google.colab.kernel.accessAllowed ? 'block' : 'none';\n",
              "\n",
              "        async function convertToInteractive(key) {\n",
              "          const element = document.querySelector('#df-55d3dedf-eeef-4316-98dc-842283bd0aeb');\n",
              "          const dataTable =\n",
              "            await google.colab.kernel.invokeFunction('convertToInteractive',\n",
              "                                                     [key], {});\n",
              "          if (!dataTable) return;\n",
              "\n",
              "          const docLinkHtml = 'Like what you see? Visit the ' +\n",
              "            '<a target=\"_blank\" href=https://colab.research.google.com/notebooks/data_table.ipynb>data table notebook</a>'\n",
              "            + ' to learn more about interactive tables.';\n",
              "          element.innerHTML = '';\n",
              "          dataTable['output_type'] = 'display_data';\n",
              "          await google.colab.output.renderOutput(dataTable, element);\n",
              "          const docLink = document.createElement('div');\n",
              "          docLink.innerHTML = docLinkHtml;\n",
              "          element.appendChild(docLink);\n",
              "        }\n",
              "      </script>\n",
              "    </div>\n",
              "  </div>\n",
              "  "
            ]
          },
          "metadata": {},
          "execution_count": 82
        }
      ]
    },
    {
      "cell_type": "markdown",
      "source": [
        "#### `Dropping couple of columns which are of no use, to make sales prediction`"
      ],
      "metadata": {
        "id": "sCZEJoPGe8zu"
      }
    },
    {
      "cell_type": "code",
      "source": [
        "ndf1.drop([ 'Customer ID', 'Customer',  'SalesOrderLineKey', 'ResellerKey',\n",
        "       'ProductKey', 'OrderDateKey', 'DueDateKey', 'ShipDateKey',\n",
        "       'SalesTerritoryKey'],  axis=1, inplace=True)"
      ],
      "metadata": {
        "id": "XvbAp4fZbUw1"
      },
      "execution_count": 83,
      "outputs": []
    },
    {
      "cell_type": "code",
      "source": [
        "# select columns with numerical data types\n",
        "num_data_ix = ndf1.select_dtypes(include=['int64', 'float64']).columns"
      ],
      "metadata": {
        "id": "QleD9k5qUvhm"
      },
      "execution_count": 84,
      "outputs": []
    },
    {
      "cell_type": "code",
      "source": [
        "num_data_ix"
      ],
      "metadata": {
        "id": "9v95UOHWUxq1",
        "colab": {
          "base_uri": "https://localhost:8080/"
        },
        "outputId": "eacfcdde-a1b3-4f43-ba64-ff8624615cc8"
      },
      "execution_count": 85,
      "outputs": [
        {
          "output_type": "execute_result",
          "data": {
            "text/plain": [
              "Index(['CustomerKey', 'Order Quantity', 'Unit Price', 'Product Cost',\n",
              "       'Gross Sales ', 'Total Cost', 'Net Sales'],\n",
              "      dtype='object')"
            ]
          },
          "metadata": {},
          "execution_count": 85
        }
      ]
    },
    {
      "cell_type": "code",
      "source": [
        "ndf1.columns"
      ],
      "metadata": {
        "id": "WL5nb8XzcDaO",
        "colab": {
          "base_uri": "https://localhost:8080/"
        },
        "outputId": "4c440f43-9bfe-4eb3-adad-d7008d2d71ae"
      },
      "execution_count": 86,
      "outputs": [
        {
          "output_type": "execute_result",
          "data": {
            "text/plain": [
              "Index(['CustomerKey', 'City', 'State-Province', 'Country-Region',\n",
              "       'Postal Code', 'Order Quantity', 'Unit Price', 'Product Cost',\n",
              "       'Gross Sales ', 'Total Cost', 'Net Sales', 'yy', 'Order Date'],\n",
              "      dtype='object')"
            ]
          },
          "metadata": {},
          "execution_count": 86
        }
      ]
    },
    {
      "cell_type": "code",
      "source": [
        "ndf1.drop(['yy'],  axis=1, inplace=True)"
      ],
      "metadata": {
        "id": "OSvOTWRzcIW0"
      },
      "execution_count": 87,
      "outputs": []
    },
    {
      "cell_type": "code",
      "source": [
        "categorical_vars = ['City', 'State-Province', 'Country-Region']\n",
        "d = defaultdict(LabelEncoder)\n",
        "\n",
        "# Encoding the categorical variable\n",
        "categorical_data = ndf1[categorical_vars].apply(lambda x: d[x.name].fit_transform(x))\n",
        "\n",
        "#One hot encoding, create dummy variables for every category of every categorical variable\n",
        "dummy_data_ix = pd.get_dummies(ndf1[categorical_vars])"
      ],
      "metadata": {
        "id": "cPtKYYQ7U4yL"
      },
      "execution_count": 88,
      "outputs": []
    },
    {
      "cell_type": "code",
      "source": [
        "final_dataset = pd.concat([ndf1[ 'Order Quantity'],ndf1['Product Cost'], ndf1['Gross Sales '], ndf1['Total Cost'], ndf1['Net Sales'], ndf1['CustomerKey'], dummy_data_ix], axis = 1)"
      ],
      "metadata": {
        "id": "dgU1x5ZZVOFt"
      },
      "execution_count": 89,
      "outputs": []
    },
    {
      "cell_type": "code",
      "source": [
        "final_dataset.shape"
      ],
      "metadata": {
        "id": "al6YH7OkVyDX",
        "colab": {
          "base_uri": "https://localhost:8080/"
        },
        "outputId": "b12196b2-e523-48e3-b169-4f8dcf7ff241"
      },
      "execution_count": 90,
      "outputs": [
        {
          "output_type": "execute_result",
          "data": {
            "text/plain": [
              "(60398, 334)"
            ]
          },
          "metadata": {},
          "execution_count": 90
        }
      ]
    },
    {
      "cell_type": "code",
      "source": [
        "X = final_dataset.drop('Net Sales', axis=1)\n",
        "y = final_dataset['Net Sales']\n",
        "X_train, X_test, y_train, y_test = train_test_split(X,y,test_size=0.2, random_state=42)"
      ],
      "metadata": {
        "id": "jBIrDlNTHj3h"
      },
      "execution_count": 91,
      "outputs": []
    },
    {
      "cell_type": "markdown",
      "source": [
        "## `Modelling via Linear Regression `"
      ],
      "metadata": {
        "id": "9wLPTv4cfW5x"
      }
    },
    {
      "cell_type": "code",
      "source": [
        "model = LinearRegression()\n",
        "model.fit(X_train, y_train)\n",
        "ypred = model.predict(X_test)"
      ],
      "metadata": {
        "id": "zAUXYXdeHbcN"
      },
      "execution_count": 92,
      "outputs": []
    },
    {
      "cell_type": "code",
      "source": [
        "# Add a constant to get an intercept\n",
        "X_train_sm = sm.add_constant(X_train)\n",
        "\n",
        "# Fit the resgression line using 'OLS'\n",
        "lr = sm.OLS(y_train, X_train_sm).fit()"
      ],
      "metadata": {
        "id": "uKFe88UaHbk6"
      },
      "execution_count": null,
      "outputs": []
    },
    {
      "cell_type": "code",
      "source": [
        "# Print the parameters, i.e. the intercept and the slope of the regression line fitted\n",
        "lr.params"
      ],
      "metadata": {
        "id": "x_33523gc33x"
      },
      "execution_count": null,
      "outputs": []
    },
    {
      "cell_type": "code",
      "source": [
        "# Performing a summary operation lists out all the different parameters of the regression line fitted\n",
        "print(lr.summary())"
      ],
      "metadata": {
        "id": "lw0nTBUcc6SQ"
      },
      "execution_count": null,
      "outputs": []
    },
    {
      "cell_type": "code",
      "source": [
        "y_train_pred = lr.predict(X_train_sm)\n",
        "res = (y_train - y_train_pred)"
      ],
      "metadata": {
        "id": "m2eJ-juQdDTN"
      },
      "execution_count": null,
      "outputs": []
    },
    {
      "cell_type": "code",
      "source": [
        "fig = plt.figure()\n",
        "sns.distplot(res, bins = 15)\n",
        "fig.suptitle('Error Terms', fontsize = 15)                  \n",
        "plt.xlabel('y_train - y_train_pred', fontsize = 15)        \n",
        "plt.show()"
      ],
      "metadata": {
        "id": "aaQsWJWXdGfH"
      },
      "execution_count": null,
      "outputs": []
    },
    {
      "cell_type": "code",
      "source": [
        "# Add a constant to X_test\n",
        "X_test_sm = sm.add_constant(X_test)\n",
        "\n",
        "# Predict the y values corresponding to X_test_sm\n",
        "y_pred = lr.predict(X_test_sm)"
      ],
      "metadata": {
        "id": "rwxKxz0JdJdu"
      },
      "execution_count": null,
      "outputs": []
    },
    {
      "cell_type": "code",
      "source": [
        "#Returns the mean squared error; we'll take a square root\n",
        "np.sqrt(mean_squared_error(y_test, y_pred))"
      ],
      "metadata": {
        "id": "AOsW2QvzdNzR"
      },
      "execution_count": null,
      "outputs": []
    },
    {
      "cell_type": "code",
      "source": [
        "# this r-squared value of 1, indicates our model is performing really very well\n",
        "r_squared = r2_score(y_test, y_pred)\n",
        "r_squared"
      ],
      "metadata": {
        "id": "1SO4ABZJdQ1n"
      },
      "execution_count": null,
      "outputs": []
    },
    {
      "cell_type": "code",
      "source": [],
      "metadata": {
        "id": "0UqaruvndWUM"
      },
      "execution_count": null,
      "outputs": []
    }
  ]
}